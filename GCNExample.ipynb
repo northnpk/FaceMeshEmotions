{
 "cells": [
  {
   "cell_type": "code",
   "execution_count": 1,
   "metadata": {},
   "outputs": [],
   "source": [
    "import preprocessFERplus as preprocess\n",
    "import facemeshGCN as classifier"
   ]
  },
  {
   "cell_type": "code",
   "execution_count": 2,
   "metadata": {},
   "outputs": [
    {
     "name": "stdout",
     "output_type": "stream",
     "text": [
      "reading csvfile from challenges-in-representation-learning-facial-expression-recognition-challenge/icml_face_data.csv\n"
     ]
    }
   ],
   "source": [
    "data = preprocess.FERdata('challenges-in-representation-learning-facial-expression-recognition-challenge/icml_face_data.csv')"
   ]
  },
  {
   "cell_type": "code",
   "execution_count": 3,
   "metadata": {},
   "outputs": [
    {
     "name": "stdout",
     "output_type": "stream",
     "text": [
      "Generate df with config\n",
      " mode:GNN\n",
      " drawlandmarks:False\n",
      " mapping:False\n",
      " colormap:GRAY\n",
      " sample:True\n",
      " sample_size:100\n",
      "Prepare data to img\n"
     ]
    },
    {
     "name": "stderr",
     "output_type": "stream",
     "text": [
      "100%|██████████| 300/300 [00:00<00:00, 884.06it/s]\n",
      "INFO: Created TensorFlow Lite XNNPACK delegate for CPU.\n"
     ]
    },
    {
     "name": "stdout",
     "output_type": "stream",
     "text": [
      "Getting landmarks with mediapipe FaceMesh\n"
     ]
    },
    {
     "name": "stderr",
     "output_type": "stream",
     "text": [
      "100%|██████████| 300/300 [00:03<00:00, 80.74it/s]"
     ]
    },
    {
     "name": "stdout",
     "output_type": "stream",
     "text": [
      "Distribution of Train: \n",
      "3    28\n",
      "2    15\n",
      "4    15\n",
      "6    15\n",
      "0    14\n",
      "5     7\n",
      "Name: target, dtype: int64\n",
      "Distribution of Validation: \n",
      "6    20\n",
      "3    17\n",
      "4    16\n",
      "2    15\n",
      "0    14\n",
      "5    10\n",
      "Name: target, dtype: int64\n",
      "Distribution of Test \n",
      "3    31\n",
      "6    16\n",
      "5    15\n",
      "2    13\n",
      "4    12\n",
      "0     7\n",
      "1     1\n",
      "Name: target, dtype: int64\n"
     ]
    },
    {
     "name": "stderr",
     "output_type": "stream",
     "text": [
      "\n"
     ]
    }
   ],
   "source": [
    "result = data.get_df(mode='GNN',sample=True, sample_size=100)"
   ]
  },
  {
   "cell_type": "code",
   "execution_count": 4,
   "metadata": {},
   "outputs": [
    {
     "data": {
      "text/html": [
       "<div>\n",
       "<style scoped>\n",
       "    .dataframe tbody tr th:only-of-type {\n",
       "        vertical-align: middle;\n",
       "    }\n",
       "\n",
       "    .dataframe tbody tr th {\n",
       "        vertical-align: top;\n",
       "    }\n",
       "\n",
       "    .dataframe thead th {\n",
       "        text-align: right;\n",
       "    }\n",
       "</style>\n",
       "<table border=\"1\" class=\"dataframe\">\n",
       "  <thead>\n",
       "    <tr style=\"text-align: right;\">\n",
       "      <th></th>\n",
       "      <th>usage</th>\n",
       "      <th>feature</th>\n",
       "      <th>target</th>\n",
       "      <th>edge_index</th>\n",
       "    </tr>\n",
       "  </thead>\n",
       "  <tbody>\n",
       "    <tr>\n",
       "      <th>0</th>\n",
       "      <td>train</td>\n",
       "      <td>[[0.47204744815826416, 0.7967953681945801, -0....</td>\n",
       "      <td>2</td>\n",
       "      <td>[(18, 17), (82, 38), (8, 9), (456, 248), (167,...</td>\n",
       "    </tr>\n",
       "    <tr>\n",
       "      <th>1</th>\n",
       "      <td>train</td>\n",
       "      <td>[[0.4263184070587158, 0.7126573324203491, -0.0...</td>\n",
       "      <td>3</td>\n",
       "      <td>[(18, 17), (82, 38), (8, 9), (456, 248), (167,...</td>\n",
       "    </tr>\n",
       "    <tr>\n",
       "      <th>2</th>\n",
       "      <td>train</td>\n",
       "      <td>[[0.48386120796203613, 0.7757163047790527, -0....</td>\n",
       "      <td>0</td>\n",
       "      <td>[(18, 17), (82, 38), (8, 9), (456, 248), (167,...</td>\n",
       "    </tr>\n",
       "    <tr>\n",
       "      <th>3</th>\n",
       "      <td>train</td>\n",
       "      <td>[[0.5052782893180847, 0.7772572040557861, -0.0...</td>\n",
       "      <td>4</td>\n",
       "      <td>[(18, 17), (82, 38), (8, 9), (456, 248), (167,...</td>\n",
       "    </tr>\n",
       "    <tr>\n",
       "      <th>4</th>\n",
       "      <td>train</td>\n",
       "      <td>[[0.42396390438079834, 0.6678128242492676, -0....</td>\n",
       "      <td>0</td>\n",
       "      <td>[(18, 17), (82, 38), (8, 9), (456, 248), (167,...</td>\n",
       "    </tr>\n",
       "    <tr>\n",
       "      <th>...</th>\n",
       "      <td>...</td>\n",
       "      <td>...</td>\n",
       "      <td>...</td>\n",
       "      <td>...</td>\n",
       "    </tr>\n",
       "    <tr>\n",
       "      <th>276</th>\n",
       "      <td>test</td>\n",
       "      <td>[[0.5331042408943176, 0.7415152788162231, -0.0...</td>\n",
       "      <td>6</td>\n",
       "      <td>[(18, 17), (82, 38), (8, 9), (456, 248), (167,...</td>\n",
       "    </tr>\n",
       "    <tr>\n",
       "      <th>277</th>\n",
       "      <td>test</td>\n",
       "      <td>[[0.6736319065093994, 0.7061699032783508, -0.0...</td>\n",
       "      <td>6</td>\n",
       "      <td>[(18, 17), (82, 38), (8, 9), (456, 248), (167,...</td>\n",
       "    </tr>\n",
       "    <tr>\n",
       "      <th>278</th>\n",
       "      <td>test</td>\n",
       "      <td>[[0.6493198871612549, 0.7840785384178162, -0.0...</td>\n",
       "      <td>6</td>\n",
       "      <td>[(18, 17), (82, 38), (8, 9), (456, 248), (167,...</td>\n",
       "    </tr>\n",
       "    <tr>\n",
       "      <th>279</th>\n",
       "      <td>test</td>\n",
       "      <td>[[0.4710827171802521, 0.7513158321380615, -0.0...</td>\n",
       "      <td>6</td>\n",
       "      <td>[(18, 17), (82, 38), (8, 9), (456, 248), (167,...</td>\n",
       "    </tr>\n",
       "    <tr>\n",
       "      <th>280</th>\n",
       "      <td>test</td>\n",
       "      <td>[[0.4970061182975769, 0.7353583574295044, -0.0...</td>\n",
       "      <td>5</td>\n",
       "      <td>[(18, 17), (82, 38), (8, 9), (456, 248), (167,...</td>\n",
       "    </tr>\n",
       "  </tbody>\n",
       "</table>\n",
       "<p>281 rows × 4 columns</p>\n",
       "</div>"
      ],
      "text/plain": [
       "     usage                                            feature target  \\\n",
       "0    train  [[0.47204744815826416, 0.7967953681945801, -0....      2   \n",
       "1    train  [[0.4263184070587158, 0.7126573324203491, -0.0...      3   \n",
       "2    train  [[0.48386120796203613, 0.7757163047790527, -0....      0   \n",
       "3    train  [[0.5052782893180847, 0.7772572040557861, -0.0...      4   \n",
       "4    train  [[0.42396390438079834, 0.6678128242492676, -0....      0   \n",
       "..     ...                                                ...    ...   \n",
       "276   test  [[0.5331042408943176, 0.7415152788162231, -0.0...      6   \n",
       "277   test  [[0.6736319065093994, 0.7061699032783508, -0.0...      6   \n",
       "278   test  [[0.6493198871612549, 0.7840785384178162, -0.0...      6   \n",
       "279   test  [[0.4710827171802521, 0.7513158321380615, -0.0...      6   \n",
       "280   test  [[0.4970061182975769, 0.7353583574295044, -0.0...      5   \n",
       "\n",
       "                                            edge_index  \n",
       "0    [(18, 17), (82, 38), (8, 9), (456, 248), (167,...  \n",
       "1    [(18, 17), (82, 38), (8, 9), (456, 248), (167,...  \n",
       "2    [(18, 17), (82, 38), (8, 9), (456, 248), (167,...  \n",
       "3    [(18, 17), (82, 38), (8, 9), (456, 248), (167,...  \n",
       "4    [(18, 17), (82, 38), (8, 9), (456, 248), (167,...  \n",
       "..                                                 ...  \n",
       "276  [(18, 17), (82, 38), (8, 9), (456, 248), (167,...  \n",
       "277  [(18, 17), (82, 38), (8, 9), (456, 248), (167,...  \n",
       "278  [(18, 17), (82, 38), (8, 9), (456, 248), (167,...  \n",
       "279  [(18, 17), (82, 38), (8, 9), (456, 248), (167,...  \n",
       "280  [(18, 17), (82, 38), (8, 9), (456, 248), (167,...  \n",
       "\n",
       "[281 rows x 4 columns]"
      ]
     },
     "execution_count": 4,
     "metadata": {},
     "output_type": "execute_result"
    }
   ],
   "source": [
    "result"
   ]
  },
  {
   "cell_type": "code",
   "execution_count": null,
   "metadata": {},
   "outputs": [],
   "source": []
  }
 ],
 "metadata": {
  "kernelspec": {
   "display_name": "Python 3.9.6 64-bit",
   "language": "python",
   "name": "python3"
  },
  "language_info": {
   "codemirror_mode": {
    "name": "ipython",
    "version": 3
   },
   "file_extension": ".py",
   "mimetype": "text/x-python",
   "name": "python",
   "nbconvert_exporter": "python",
   "pygments_lexer": "ipython3",
   "version": "3.9.6"
  },
  "orig_nbformat": 4,
  "vscode": {
   "interpreter": {
    "hash": "31f2aee4e71d21fbe5cf8b01ff0e069b9275f58929596ceb00d14d90e3e16cd6"
   }
  }
 },
 "nbformat": 4,
 "nbformat_minor": 2
}
