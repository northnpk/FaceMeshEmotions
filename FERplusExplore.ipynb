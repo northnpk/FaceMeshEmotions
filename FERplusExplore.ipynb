{
 "cells": [
  {
   "cell_type": "code",
   "execution_count": 1,
   "metadata": {},
   "outputs": [],
   "source": [
    "import numpy as np\n",
    "import pandas as pd\n",
    "import cv2"
   ]
  },
  {
   "cell_type": "code",
   "execution_count": 2,
   "metadata": {},
   "outputs": [],
   "source": [
    "df = pd.read_csv('challenges-in-representation-learning-facial-expression-recognition-challenge/icml_face_data.csv')"
   ]
  },
  {
   "cell_type": "code",
   "execution_count": 3,
   "metadata": {},
   "outputs": [
    {
     "data": {
      "text/html": [
       "<div>\n",
       "<style scoped>\n",
       "    .dataframe tbody tr th:only-of-type {\n",
       "        vertical-align: middle;\n",
       "    }\n",
       "\n",
       "    .dataframe tbody tr th {\n",
       "        vertical-align: top;\n",
       "    }\n",
       "\n",
       "    .dataframe thead th {\n",
       "        text-align: right;\n",
       "    }\n",
       "</style>\n",
       "<table border=\"1\" class=\"dataframe\">\n",
       "  <thead>\n",
       "    <tr style=\"text-align: right;\">\n",
       "      <th></th>\n",
       "      <th>emotion</th>\n",
       "      <th>Usage</th>\n",
       "      <th>pixels</th>\n",
       "    </tr>\n",
       "  </thead>\n",
       "  <tbody>\n",
       "    <tr>\n",
       "      <th>0</th>\n",
       "      <td>0</td>\n",
       "      <td>Training</td>\n",
       "      <td>70 80 82 72 58 58 60 63 54 58 60 48 89 115 121...</td>\n",
       "    </tr>\n",
       "    <tr>\n",
       "      <th>1</th>\n",
       "      <td>0</td>\n",
       "      <td>Training</td>\n",
       "      <td>151 150 147 155 148 133 111 140 170 174 182 15...</td>\n",
       "    </tr>\n",
       "    <tr>\n",
       "      <th>2</th>\n",
       "      <td>2</td>\n",
       "      <td>Training</td>\n",
       "      <td>231 212 156 164 174 138 161 173 182 200 106 38...</td>\n",
       "    </tr>\n",
       "    <tr>\n",
       "      <th>3</th>\n",
       "      <td>4</td>\n",
       "      <td>Training</td>\n",
       "      <td>24 32 36 30 32 23 19 20 30 41 21 22 32 34 21 1...</td>\n",
       "    </tr>\n",
       "    <tr>\n",
       "      <th>4</th>\n",
       "      <td>6</td>\n",
       "      <td>Training</td>\n",
       "      <td>4 0 0 0 0 0 0 0 0 0 0 0 3 15 23 28 48 50 58 84...</td>\n",
       "    </tr>\n",
       "    <tr>\n",
       "      <th>5</th>\n",
       "      <td>2</td>\n",
       "      <td>Training</td>\n",
       "      <td>55 55 55 55 55 54 60 68 54 85 151 163 170 179 ...</td>\n",
       "    </tr>\n",
       "    <tr>\n",
       "      <th>6</th>\n",
       "      <td>4</td>\n",
       "      <td>Training</td>\n",
       "      <td>20 17 19 21 25 38 42 42 46 54 56 62 63 66 82 1...</td>\n",
       "    </tr>\n",
       "    <tr>\n",
       "      <th>7</th>\n",
       "      <td>3</td>\n",
       "      <td>Training</td>\n",
       "      <td>77 78 79 79 78 75 60 55 47 48 58 73 77 79 57 5...</td>\n",
       "    </tr>\n",
       "    <tr>\n",
       "      <th>8</th>\n",
       "      <td>3</td>\n",
       "      <td>Training</td>\n",
       "      <td>85 84 90 121 101 102 133 153 153 169 177 189 1...</td>\n",
       "    </tr>\n",
       "    <tr>\n",
       "      <th>9</th>\n",
       "      <td>2</td>\n",
       "      <td>Training</td>\n",
       "      <td>255 254 255 254 254 179 122 107 95 124 149 150...</td>\n",
       "    </tr>\n",
       "  </tbody>\n",
       "</table>\n",
       "</div>"
      ],
      "text/plain": [
       "   emotion     Usage                                             pixels\n",
       "0        0  Training  70 80 82 72 58 58 60 63 54 58 60 48 89 115 121...\n",
       "1        0  Training  151 150 147 155 148 133 111 140 170 174 182 15...\n",
       "2        2  Training  231 212 156 164 174 138 161 173 182 200 106 38...\n",
       "3        4  Training  24 32 36 30 32 23 19 20 30 41 21 22 32 34 21 1...\n",
       "4        6  Training  4 0 0 0 0 0 0 0 0 0 0 0 3 15 23 28 48 50 58 84...\n",
       "5        2  Training  55 55 55 55 55 54 60 68 54 85 151 163 170 179 ...\n",
       "6        4  Training  20 17 19 21 25 38 42 42 46 54 56 62 63 66 82 1...\n",
       "7        3  Training  77 78 79 79 78 75 60 55 47 48 58 73 77 79 57 5...\n",
       "8        3  Training  85 84 90 121 101 102 133 153 153 169 177 189 1...\n",
       "9        2  Training  255 254 255 254 254 179 122 107 95 124 149 150..."
      ]
     },
     "execution_count": 3,
     "metadata": {},
     "output_type": "execute_result"
    }
   ],
   "source": [
    "df.head(10)"
   ]
  },
  {
   "cell_type": "code",
   "execution_count": 4,
   "metadata": {},
   "outputs": [
    {
     "data": {
      "text/plain": [
       "0        70 80 82 72 58 58 60 63 54 58 60 48 89 115 121...\n",
       "1        151 150 147 155 148 133 111 140 170 174 182 15...\n",
       "2        231 212 156 164 174 138 161 173 182 200 106 38...\n",
       "3        24 32 36 30 32 23 19 20 30 41 21 22 32 34 21 1...\n",
       "4        4 0 0 0 0 0 0 0 0 0 0 0 3 15 23 28 48 50 58 84...\n",
       "                               ...                        \n",
       "35882    50 36 17 22 23 29 33 39 34 37 37 37 39 43 48 5...\n",
       "35883    178 174 172 173 181 188 191 194 196 199 200 20...\n",
       "35884    17 17 16 23 28 22 19 17 25 26 20 24 31 19 27 9...\n",
       "35885    30 28 28 29 31 30 42 68 79 81 77 67 67 71 63 6...\n",
       "35886    19 13 14 12 13 16 21 33 50 57 71 84 97 108 122...\n",
       "Name:  pixels, Length: 35887, dtype: object"
      ]
     },
     "execution_count": 4,
     "metadata": {},
     "output_type": "execute_result"
    }
   ],
   "source": [
    "df[' pixels']"
   ]
  },
  {
   "cell_type": "code",
   "execution_count": 5,
   "metadata": {},
   "outputs": [],
   "source": [
    "def to_img(row):\n",
    "    return np.array(row[' pixels'].split(' ')).reshape(48,48).astype('uint8')"
   ]
  },
  {
   "cell_type": "code",
   "execution_count": 6,
   "metadata": {},
   "outputs": [],
   "source": [
    "df['img'] = df.apply(to_img, axis=1)"
   ]
  },
  {
   "cell_type": "code",
   "execution_count": 7,
   "metadata": {},
   "outputs": [
    {
     "data": {
      "text/plain": [
       "array([[ 70,  80,  82, ...,  52,  43,  41],\n",
       "       [ 65,  61,  58, ...,  56,  52,  44],\n",
       "       [ 50,  43,  54, ...,  49,  56,  47],\n",
       "       ...,\n",
       "       [ 91,  65,  42, ...,  72,  56,  43],\n",
       "       [ 77,  82,  79, ..., 105,  70,  46],\n",
       "       [ 77,  72,  84, ..., 106, 109,  82]], dtype=uint8)"
      ]
     },
     "execution_count": 7,
     "metadata": {},
     "output_type": "execute_result"
    }
   ],
   "source": [
    "df['img'][0]"
   ]
  },
  {
   "cell_type": "code",
   "execution_count": 8,
   "metadata": {},
   "outputs": [
    {
     "data": {
      "image/png": "[encoded data removed]",
      "text/plain": [
       "<Figure size 640x480 with 1 Axes>"
      ]
     },
     "metadata": {},
     "output_type": "display_data"
    }
   ],
   "source": [
    "import matplotlib.pyplot as plt\n",
    "plt.imshow(df['img'][0], cmap='gray')\n",
    "plt.show()"
   ]
  },
  {
   "cell_type": "code",
   "execution_count": 9,
   "metadata": {},
   "outputs": [],
   "source": [
    "from tqdm import tqdm\n",
    "import mediapipe as mp\n",
    "\n",
    "mp_drawing = mp.solutions.drawing_utils\n",
    "mp_drawing_styles = mp.solutions.drawing_styles\n",
    "mp_face_mesh = mp.solutions.face_mesh"
   ]
  },
  {
   "cell_type": "code",
   "execution_count": 10,
   "metadata": {},
   "outputs": [],
   "source": [
    "def prepareforANN(lanmarks):\n",
    "    return np.array([[landmark.x, landmark.y, landmark.z] for landmark in lanmarks])"
   ]
  },
  {
   "cell_type": "code",
   "execution_count": 11,
   "metadata": {},
   "outputs": [],
   "source": [
    "def drawalllandmark(annotated_image, result):\n",
    "    for face_landmarks in result.multi_face_landmarks:\n",
    "        # print('face_landmarks:', face_landmarks)\n",
    "        mp_drawing.draw_landmarks(\n",
    "            image=annotated_image,\n",
    "            landmark_list=face_landmarks,\n",
    "            connections=mp_face_mesh.FACEMESH_TESSELATION,\n",
    "            landmark_drawing_spec=None,\n",
    "            connection_drawing_spec=mp_drawing_styles.\n",
    "            get_default_face_mesh_tesselation_style())\n",
    "        mp_drawing.draw_landmarks(\n",
    "            image=annotated_image,\n",
    "            landmark_list=face_landmarks,\n",
    "            connections=mp_face_mesh.FACEMESH_CONTOURS,\n",
    "            landmark_drawing_spec=None,\n",
    "            connection_drawing_spec=mp_drawing_styles.\n",
    "            get_default_face_mesh_contours_style())\n",
    "        mp_drawing.draw_landmarks(\n",
    "            image=annotated_image,\n",
    "            landmark_list=face_landmarks,\n",
    "            connections=mp_face_mesh.FACEMESH_IRISES,\n",
    "            landmark_drawing_spec=None,\n",
    "            connection_drawing_spec=mp_drawing_styles.\n",
    "            get_default_face_mesh_iris_connections_style())\n",
    "        \n",
    "    return annotated_image"
   ]
  },
  {
   "cell_type": "code",
   "execution_count": 12,
   "metadata": {},
   "outputs": [],
   "source": [
    "def emotionmapping(emotion):\n",
    "    if emotion == 0:\n",
    "        return 'anger'\n",
    "    elif emotion == 1:\n",
    "        return 'disgust'\n",
    "    elif emotion == 2:\n",
    "        return 'fear'\n",
    "    elif emotion == 3:\n",
    "        return 'happy'\n",
    "    elif emotion == 4:\n",
    "        return 'sad'\n",
    "    elif emotion == 5:\n",
    "        return 'surprise'\n",
    "    elif emotion == 6:\n",
    "        return 'neutral'"
   ]
  },
  {
   "cell_type": "code",
   "execution_count": 13,
   "metadata": {},
   "outputs": [],
   "source": [
    "def getlandmark(df):\n",
    "    new_df = pd.DataFrame(columns=['usage', 'feature', 'target'])\n",
    "    with mp_face_mesh.FaceMesh(static_image_mode=True,\n",
    "                               max_num_faces=1,\n",
    "                               refine_landmarks=True,\n",
    "                               min_detection_confidence=0.5) as face_mesh:\n",
    "        for data in tqdm(df[[' Usage','img', 'emotion']].values):\n",
    "            # Convert the BGR image to RGB before processing.\n",
    "            result = face_mesh.process(cv2.cvtColor(data[1], cv2.COLOR_GRAY2RGB))\n",
    "            emotion = data[2]\n",
    "            # Print and draw face mesh landmarks on the image.\n",
    "            if not result.multi_face_landmarks:\n",
    "                continue\n",
    "            np_landmark = prepareforANN(result.multi_face_landmarks[0].landmark)\n",
    "            new_df = pd.concat([new_df, pd.DataFrame([[data[0], np_landmark, emotion]], columns=['usage', 'feature', 'target'])], ignore_index=True)\n",
    "            # annotated_image = cv2.cvtColor(data[1], cv2.COLOR_GRAY2RGB).copy()\n",
    "            # annotated_image = drawalllandmark(annotated_image, result)\n",
    "            # plt.imshow(annotated_image)\n",
    "    return new_df\n"
   ]
  },
  {
   "cell_type": "code",
   "execution_count": 14,
   "metadata": {},
   "outputs": [
    {
     "name": "stderr",
     "output_type": "stream",
     "text": [
      "INFO: Created TensorFlow Lite XNNPACK delegate for CPU.\n",
      " 35%|███▌      | 12704/35887 [02:35<04:41, 82.40it/s]"
     ]
    }
   ],
   "source": [
    "# result = getlandmark(pd.concat([df[0:10],df[29000:29010],df[-10:]]))\n",
    "result = getlandmark(df)"
   ]
  },
  {
   "cell_type": "code",
   "execution_count": null,
   "metadata": {},
   "outputs": [
    {
     "data": {
      "text/html": [
       "<div>\n",
       "<style scoped>\n",
       "    .dataframe tbody tr th:only-of-type {\n",
       "        vertical-align: middle;\n",
       "    }\n",
       "\n",
       "    .dataframe tbody tr th {\n",
       "        vertical-align: top;\n",
       "    }\n",
       "\n",
       "    .dataframe thead th {\n",
       "        text-align: right;\n",
       "    }\n",
       "</style>\n",
       "<table border=\"1\" class=\"dataframe\">\n",
       "  <thead>\n",
       "    <tr style=\"text-align: right;\">\n",
       "      <th></th>\n",
       "      <th>usage</th>\n",
       "      <th>feature</th>\n",
       "      <th>target</th>\n",
       "    </tr>\n",
       "  </thead>\n",
       "  <tbody>\n",
       "    <tr>\n",
       "      <th>0</th>\n",
       "      <td>Training</td>\n",
       "      <td>[[0.5199680328369141, 0.7789784669876099, -0.0...</td>\n",
       "      <td>0</td>\n",
       "    </tr>\n",
       "    <tr>\n",
       "      <th>1</th>\n",
       "      <td>Training</td>\n",
       "      <td>[[0.5085993409156799, 0.7591274380683899, -0.1...</td>\n",
       "      <td>0</td>\n",
       "    </tr>\n",
       "    <tr>\n",
       "      <th>2</th>\n",
       "      <td>Training</td>\n",
       "      <td>[[0.33950066566467285, 0.7026019096374512, -0....</td>\n",
       "      <td>2</td>\n",
       "    </tr>\n",
       "    <tr>\n",
       "      <th>3</th>\n",
       "      <td>Training</td>\n",
       "      <td>[[0.5091360807418823, 0.7863333821296692, -0.0...</td>\n",
       "      <td>6</td>\n",
       "    </tr>\n",
       "    <tr>\n",
       "      <th>4</th>\n",
       "      <td>Training</td>\n",
       "      <td>[[0.5136174559593201, 0.7689816951751709, -0.1...</td>\n",
       "      <td>2</td>\n",
       "    </tr>\n",
       "    <tr>\n",
       "      <th>5</th>\n",
       "      <td>Training</td>\n",
       "      <td>[[0.43531954288482666, 0.8602523803710938, -0....</td>\n",
       "      <td>4</td>\n",
       "    </tr>\n",
       "    <tr>\n",
       "      <th>6</th>\n",
       "      <td>Training</td>\n",
       "      <td>[[0.4482179880142212, 0.6476788520812988, -0.0...</td>\n",
       "      <td>3</td>\n",
       "    </tr>\n",
       "    <tr>\n",
       "      <th>7</th>\n",
       "      <td>Training</td>\n",
       "      <td>[[0.5302619934082031, 0.7715927958488464, -0.0...</td>\n",
       "      <td>3</td>\n",
       "    </tr>\n",
       "    <tr>\n",
       "      <th>8</th>\n",
       "      <td>Training</td>\n",
       "      <td>[[0.4944169819355011, 0.8042576313018799, -0.0...</td>\n",
       "      <td>2</td>\n",
       "    </tr>\n",
       "    <tr>\n",
       "      <th>9</th>\n",
       "      <td>PublicTest</td>\n",
       "      <td>[[0.6867560744285583, 0.6710814237594604, -0.0...</td>\n",
       "      <td>3</td>\n",
       "    </tr>\n",
       "    <tr>\n",
       "      <th>10</th>\n",
       "      <td>PublicTest</td>\n",
       "      <td>[[0.5425770282745361, 0.7795422673225403, -0.1...</td>\n",
       "      <td>6</td>\n",
       "    </tr>\n",
       "    <tr>\n",
       "      <th>11</th>\n",
       "      <td>PublicTest</td>\n",
       "      <td>[[0.5644195079803467, 0.7549241781234741, -0.0...</td>\n",
       "      <td>4</td>\n",
       "    </tr>\n",
       "    <tr>\n",
       "      <th>12</th>\n",
       "      <td>PublicTest</td>\n",
       "      <td>[[0.36498957872390747, 0.7181310653686523, -0....</td>\n",
       "      <td>3</td>\n",
       "    </tr>\n",
       "    <tr>\n",
       "      <th>13</th>\n",
       "      <td>PublicTest</td>\n",
       "      <td>[[0.4464624226093292, 0.5511777997016907, -0.0...</td>\n",
       "      <td>6</td>\n",
       "    </tr>\n",
       "    <tr>\n",
       "      <th>14</th>\n",
       "      <td>PublicTest</td>\n",
       "      <td>[[0.449819415807724, 0.7399505376815796, -0.10...</td>\n",
       "      <td>6</td>\n",
       "    </tr>\n",
       "    <tr>\n",
       "      <th>15</th>\n",
       "      <td>PublicTest</td>\n",
       "      <td>[[0.5337049961090088, 0.7008905410766602, -0.0...</td>\n",
       "      <td>6</td>\n",
       "    </tr>\n",
       "    <tr>\n",
       "      <th>16</th>\n",
       "      <td>PublicTest</td>\n",
       "      <td>[[0.364236980676651, 0.5976604223251343, -0.09...</td>\n",
       "      <td>5</td>\n",
       "    </tr>\n",
       "    <tr>\n",
       "      <th>17</th>\n",
       "      <td>PrivateTest</td>\n",
       "      <td>[[0.43980932235717773, 0.7549989223480225, -0....</td>\n",
       "      <td>6</td>\n",
       "    </tr>\n",
       "    <tr>\n",
       "      <th>18</th>\n",
       "      <td>PrivateTest</td>\n",
       "      <td>[[0.4934762120246887, 0.735582172870636, -0.06...</td>\n",
       "      <td>3</td>\n",
       "    </tr>\n",
       "    <tr>\n",
       "      <th>19</th>\n",
       "      <td>PrivateTest</td>\n",
       "      <td>[[0.6427533626556396, 0.8449443578720093, -0.0...</td>\n",
       "      <td>2</td>\n",
       "    </tr>\n",
       "    <tr>\n",
       "      <th>20</th>\n",
       "      <td>PrivateTest</td>\n",
       "      <td>[[0.4256991147994995, 0.7292397022247314, -0.1...</td>\n",
       "      <td>2</td>\n",
       "    </tr>\n",
       "    <tr>\n",
       "      <th>21</th>\n",
       "      <td>PrivateTest</td>\n",
       "      <td>[[0.4932577610015869, 0.7970439195632935, -0.0...</td>\n",
       "      <td>0</td>\n",
       "    </tr>\n",
       "    <tr>\n",
       "      <th>22</th>\n",
       "      <td>PrivateTest</td>\n",
       "      <td>[[0.4710827171802521, 0.7513158321380615, -0.0...</td>\n",
       "      <td>6</td>\n",
       "    </tr>\n",
       "    <tr>\n",
       "      <th>23</th>\n",
       "      <td>PrivateTest</td>\n",
       "      <td>[[0.8832805156707764, 0.5687428712844849, -0.1...</td>\n",
       "      <td>0</td>\n",
       "    </tr>\n",
       "    <tr>\n",
       "      <th>24</th>\n",
       "      <td>PrivateTest</td>\n",
       "      <td>[[0.48813149333000183, 0.5168474316596985, -0....</td>\n",
       "      <td>3</td>\n",
       "    </tr>\n",
       "    <tr>\n",
       "      <th>25</th>\n",
       "      <td>PrivateTest</td>\n",
       "      <td>[[0.5102322101593018, 0.7963460683822632, -0.0...</td>\n",
       "      <td>2</td>\n",
       "    </tr>\n",
       "  </tbody>\n",
       "</table>\n",
       "</div>"
      ],
      "text/plain": [
       "          usage                                            feature target\n",
       "0      Training  [[0.5199680328369141, 0.7789784669876099, -0.0...      0\n",
       "1      Training  [[0.5085993409156799, 0.7591274380683899, -0.1...      0\n",
       "2      Training  [[0.33950066566467285, 0.7026019096374512, -0....      2\n",
       "3      Training  [[0.5091360807418823, 0.7863333821296692, -0.0...      6\n",
       "4      Training  [[0.5136174559593201, 0.7689816951751709, -0.1...      2\n",
       "5      Training  [[0.43531954288482666, 0.8602523803710938, -0....      4\n",
       "6      Training  [[0.4482179880142212, 0.6476788520812988, -0.0...      3\n",
       "7      Training  [[0.5302619934082031, 0.7715927958488464, -0.0...      3\n",
       "8      Training  [[0.4944169819355011, 0.8042576313018799, -0.0...      2\n",
       "9    PublicTest  [[0.6867560744285583, 0.6710814237594604, -0.0...      3\n",
       "10   PublicTest  [[0.5425770282745361, 0.7795422673225403, -0.1...      6\n",
       "11   PublicTest  [[0.5644195079803467, 0.7549241781234741, -0.0...      4\n",
       "12   PublicTest  [[0.36498957872390747, 0.7181310653686523, -0....      3\n",
       "13   PublicTest  [[0.4464624226093292, 0.5511777997016907, -0.0...      6\n",
       "14   PublicTest  [[0.449819415807724, 0.7399505376815796, -0.10...      6\n",
       "15   PublicTest  [[0.5337049961090088, 0.7008905410766602, -0.0...      6\n",
       "16   PublicTest  [[0.364236980676651, 0.5976604223251343, -0.09...      5\n",
       "17  PrivateTest  [[0.43980932235717773, 0.7549989223480225, -0....      6\n",
       "18  PrivateTest  [[0.4934762120246887, 0.735582172870636, -0.06...      3\n",
       "19  PrivateTest  [[0.6427533626556396, 0.8449443578720093, -0.0...      2\n",
       "20  PrivateTest  [[0.4256991147994995, 0.7292397022247314, -0.1...      2\n",
       "21  PrivateTest  [[0.4932577610015869, 0.7970439195632935, -0.0...      0\n",
       "22  PrivateTest  [[0.4710827171802521, 0.7513158321380615, -0.0...      6\n",
       "23  PrivateTest  [[0.8832805156707764, 0.5687428712844849, -0.1...      0\n",
       "24  PrivateTest  [[0.48813149333000183, 0.5168474316596985, -0....      3\n",
       "25  PrivateTest  [[0.5102322101593018, 0.7963460683822632, -0.0...      2"
      ]
     },
     "execution_count": 15,
     "metadata": {},
     "output_type": "execute_result"
    }
   ],
   "source": [
    "result"
   ]
  },
  {
   "cell_type": "code",
   "execution_count": null,
   "metadata": {},
   "outputs": [
    {
     "data": {
      "text/plain": [
       "0     0\n",
       "1     0\n",
       "2     2\n",
       "3     6\n",
       "4     2\n",
       "5     4\n",
       "6     3\n",
       "7     3\n",
       "8     2\n",
       "9     3\n",
       "10    6\n",
       "11    4\n",
       "12    3\n",
       "13    6\n",
       "14    6\n",
       "15    6\n",
       "16    5\n",
       "17    6\n",
       "18    3\n",
       "19    2\n",
       "20    2\n",
       "21    0\n",
       "22    6\n",
       "23    0\n",
       "24    3\n",
       "25    2\n",
       "Name: target, dtype: object"
      ]
     },
     "execution_count": 16,
     "metadata": {},
     "output_type": "execute_result"
    }
   ],
   "source": [
    "result['target']"
   ]
  },
  {
   "cell_type": "code",
   "execution_count": null,
   "metadata": {},
   "outputs": [
    {
     "data": {
      "text/plain": [
       "Training       9\n",
       "PrivateTest    9\n",
       "PublicTest     8\n",
       "Name: usage, dtype: int64"
      ]
     },
     "execution_count": 17,
     "metadata": {},
     "output_type": "execute_result"
    }
   ],
   "source": [
    "result['usage'].value_counts()"
   ]
  },
  {
   "cell_type": "code",
   "execution_count": null,
   "metadata": {},
   "outputs": [],
   "source": [
    "train_df = result[result['usage'] == 'Training'].drop(columns='usage')\n",
    "val_df = result[result['usage'] == 'PublicTest'].drop(columns='usage')\n",
    "test_df = result[result['usage'] == 'PrivateTest'].drop(columns='usage')"
   ]
  },
  {
   "cell_type": "code",
   "execution_count": null,
   "metadata": {},
   "outputs": [],
   "source": [
    "import facemeshANN"
   ]
  },
  {
   "cell_type": "code",
   "execution_count": null,
   "metadata": {},
   "outputs": [
    {
     "name": "stdout",
     "output_type": "stream",
     "text": [
      "Using mps device\n"
     ]
    },
    {
     "name": "stderr",
     "output_type": "stream",
     "text": [
      "train_loss:None | val_loss:None | val_acc:None | test_loss:None | test_acc:None:   0%|          | 0/100 [00:00<?, ?it/s]"
     ]
    },
    {
     "name": "stdout",
     "output_type": "stream",
     "text": [
      "Epochs : 0\n"
     ]
    },
    {
     "name": "stderr",
     "output_type": "stream",
     "text": [
      " 22%|██▏       | 2/9 [00:00<00:00, 40.23it/s]\n"
     ]
    },
    {
     "name": "stdout",
     "output_type": "stream",
     "text": [
      "Testing...\n"
     ]
    },
    {
     "name": "stderr",
     "output_type": "stream",
     "text": [
      " 22%|██▏       | 2/9 [00:00<00:00, 176.77it/s]\n",
      "train_loss:2.069669008255005 | val_loss:2.0817805528640747 | val_acc:0.0 | test_loss:None | test_acc:None:   1%|          | 1/100 [00:00<00:08, 11.83it/s]"
     ]
    },
    {
     "name": "stdout",
     "output_type": "stream",
     "text": [
      "Epochs : 1\n"
     ]
    },
    {
     "name": "stderr",
     "output_type": "stream",
     "text": [
      " 22%|██▏       | 2/9 [00:00<00:00, 129.71it/s]\n",
      " 12%|█▎        | 1/8 [00:00<00:00, 350.99it/s]\n",
      "train_loss:2.064279079437256 | val_loss:2.0817805528640747 | val_acc:0.0 | test_loss:2.0803751945495605 | test_acc:0.125:   2%|▏         | 2/100 [00:00<00:05, 18.20it/s]"
     ]
    },
    {
     "name": "stdout",
     "output_type": "stream",
     "text": [
      "Epochs : 2\n"
     ]
    },
    {
     "name": "stderr",
     "output_type": "stream",
     "text": [
      " 22%|██▏       | 2/9 [00:00<00:00, 174.36it/s]\n",
      " 12%|█▎        | 1/8 [00:00<00:00, 208.37it/s]\n",
      "train_loss:2.058969020843506 | val_loss:2.0817805528640747 | val_acc:0.0 | test_loss:2.080970048904419 | test_acc:0.125:   3%|▎         | 3/100 [00:00<00:05, 18.20it/s] "
     ]
    },
    {
     "name": "stdout",
     "output_type": "stream",
     "text": [
      "Epochs : 3\n"
     ]
    },
    {
     "name": "stderr",
     "output_type": "stream",
     "text": [
      " 22%|██▏       | 2/9 [00:00<00:00, 174.12it/s]\n",
      " 12%|█▎        | 1/8 [00:00<00:00, 268.54it/s]\n",
      "train_loss:2.0537078380584717 | val_loss:2.0817805528640747 | val_acc:0.0 | test_loss:2.0815236568450928 | test_acc:0.125:   4%|▍         | 4/100 [00:00<00:05, 18.20it/s]"
     ]
    },
    {
     "name": "stdout",
     "output_type": "stream",
     "text": [
      "Epochs : 4\n"
     ]
    },
    {
     "name": "stderr",
     "output_type": "stream",
     "text": [
      " 22%|██▏       | 2/9 [00:00<00:00, 175.18it/s]\n",
      " 12%|█▎        | 1/8 [00:00<00:00, 192.59it/s]\n",
      "train_loss:2.0484778881073 | val_loss:2.0817805528640747 | val_acc:0.0 | test_loss:2.08206844329834 | test_acc:0.125:   5%|▌         | 5/100 [00:00<00:05, 18.20it/s]     "
     ]
    },
    {
     "name": "stdout",
     "output_type": "stream",
     "text": [
      "Epochs : 5\n"
     ]
    },
    {
     "name": "stderr",
     "output_type": "stream",
     "text": [
      " 22%|██▏       | 2/9 [00:00<00:00, 88.09it/s]\n",
      " 12%|█▎        | 1/8 [00:00<00:00, 120.31it/s]\n",
      "train_loss:2.043325185775757 | val_loss:2.0817805528640747 | val_acc:0.0 | test_loss:2.082606792449951 | test_acc:0.0:   6%|▌         | 6/100 [00:00<00:03, 26.63it/s]"
     ]
    },
    {
     "name": "stdout",
     "output_type": "stream",
     "text": [
      "Epochs : 6\n"
     ]
    },
    {
     "name": "stderr",
     "output_type": "stream",
     "text": [
      " 22%|██▏       | 2/9 [00:00<00:00, 137.02it/s]\n",
      " 12%|█▎        | 1/8 [00:00<00:00, 252.02it/s]\n",
      "train_loss:2.0381968021392822 | val_loss:2.0817805528640747 | val_acc:0.0 | test_loss:2.0831356048583984 | test_acc:0.0:   7%|▋         | 7/100 [00:00<00:03, 26.63it/s]"
     ]
    },
    {
     "name": "stdout",
     "output_type": "stream",
     "text": [
      "Epochs : 7\n"
     ]
    },
    {
     "name": "stderr",
     "output_type": "stream",
     "text": [
      " 22%|██▏       | 2/9 [00:00<00:00, 173.79it/s]\n",
      " 12%|█▎        | 1/8 [00:00<00:00, 289.88it/s]\n",
      "train_loss:2.0332298278808594 | val_loss:2.0817805528640747 | val_acc:0.0 | test_loss:2.083648681640625 | test_acc:0.0:   8%|▊         | 8/100 [00:00<00:03, 26.63it/s] "
     ]
    },
    {
     "name": "stdout",
     "output_type": "stream",
     "text": [
      "Epochs : 8\n"
     ]
    },
    {
     "name": "stderr",
     "output_type": "stream",
     "text": [
      " 22%|██▏       | 2/9 [00:00<00:00, 199.65it/s]\n",
      " 12%|█▎        | 1/8 [00:00<00:00, 359.69it/s]\n",
      "train_loss:2.028343677520752 | val_loss:2.0817805528640747 | val_acc:0.0 | test_loss:2.084137201309204 | test_acc:0.0:   9%|▉         | 9/100 [00:00<00:03, 26.63it/s] "
     ]
    },
    {
     "name": "stdout",
     "output_type": "stream",
     "text": [
      "Epochs : 9\n"
     ]
    },
    {
     "name": "stderr",
     "output_type": "stream",
     "text": [
      " 22%|██▏       | 2/9 [00:00<00:00, 185.36it/s]\n",
      " 12%|█▎        | 1/8 [00:00<00:00, 256.08it/s]\n",
      "train_loss:2.0235588550567627 | val_loss:2.0817805528640747 | val_acc:0.0 | test_loss:2.084639549255371 | test_acc:0.0:  10%|█         | 10/100 [00:00<00:03, 26.63it/s]"
     ]
    },
    {
     "name": "stdout",
     "output_type": "stream",
     "text": [
      "Epochs : 10\n"
     ]
    },
    {
     "name": "stderr",
     "output_type": "stream",
     "text": [
      " 22%|██▏       | 2/9 [00:00<00:00, 170.07it/s]\n"
     ]
    },
    {
     "name": "stdout",
     "output_type": "stream",
     "text": [
      "Testing...\n"
     ]
    },
    {
     "name": "stderr",
     "output_type": "stream",
     "text": [
      " 22%|██▏       | 2/9 [00:00<00:00, 523.14it/s]\n",
      "train_loss:2.0187487602233887 | val_loss:2.0927791595458984 | val_acc:0.3333333333333333 | test_loss:2.084639549255371 | test_acc:0.0:  11%|█         | 11/100 [00:00<00:02, 35.01it/s]"
     ]
    },
    {
     "name": "stdout",
     "output_type": "stream",
     "text": [
      "Epochs : 11\n"
     ]
    },
    {
     "name": "stderr",
     "output_type": "stream",
     "text": [
      " 22%|██▏       | 2/9 [00:00<00:00, 198.39it/s]\n",
      " 12%|█▎        | 1/8 [00:00<00:00, 227.48it/s]\n",
      "train_loss:2.0139472484588623 | val_loss:2.0927791595458984 | val_acc:0.3333333333333333 | test_loss:2.085639238357544 | test_acc:0.0:  12%|█▏        | 12/100 [00:00<00:02, 35.01it/s]"
     ]
    },
    {
     "name": "stdout",
     "output_type": "stream",
     "text": [
      "Epochs : 12\n"
     ]
    },
    {
     "name": "stderr",
     "output_type": "stream",
     "text": [
      " 22%|██▏       | 2/9 [00:00<00:00, 215.47it/s]\n",
      " 12%|█▎        | 1/8 [00:00<00:00, 251.65it/s]\n",
      "train_loss:2.0091381072998047 | val_loss:2.0927791595458984 | val_acc:0.3333333333333333 | test_loss:2.086123466491699 | test_acc:0.0:  13%|█▎        | 13/100 [00:00<00:02, 35.01it/s]"
     ]
    },
    {
     "name": "stdout",
     "output_type": "stream",
     "text": [
      "Epochs : 13\n"
     ]
    },
    {
     "name": "stderr",
     "output_type": "stream",
     "text": [
      " 22%|██▏       | 2/9 [00:00<00:00, 171.85it/s]\n",
      " 12%|█▎        | 1/8 [00:00<00:00, 321.33it/s]\n",
      "train_loss:2.004347562789917 | val_loss:2.0927791595458984 | val_acc:0.3333333333333333 | test_loss:2.086599826812744 | test_acc:0.0:  14%|█▍        | 14/100 [00:00<00:02, 35.01it/s] "
     ]
    },
    {
     "name": "stdout",
     "output_type": "stream",
     "text": [
      "Epochs : 14\n"
     ]
    },
    {
     "name": "stderr",
     "output_type": "stream",
     "text": [
      " 22%|██▏       | 2/9 [00:00<00:00, 147.21it/s]\n",
      " 12%|█▎        | 1/8 [00:00<00:00, 218.01it/s]\n",
      "train_loss:1.9995993375778198 | val_loss:2.0927791595458984 | val_acc:0.3333333333333333 | test_loss:2.0870747566223145 | test_acc:0.0:  15%|█▌        | 15/100 [00:00<00:02, 35.36it/s]"
     ]
    },
    {
     "name": "stdout",
     "output_type": "stream",
     "text": [
      "Epochs : 15\n"
     ]
    },
    {
     "name": "stderr",
     "output_type": "stream",
     "text": [
      " 22%|██▏       | 2/9 [00:00<00:00, 173.04it/s]\n",
      " 12%|█▎        | 1/8 [00:00<00:00, 233.43it/s]\n",
      "train_loss:1.9948567152023315 | val_loss:2.0927791595458984 | val_acc:0.3333333333333333 | test_loss:2.087554454803467 | test_acc:0.0:  16%|█▌        | 16/100 [00:00<00:02, 35.36it/s] "
     ]
    },
    {
     "name": "stdout",
     "output_type": "stream",
     "text": [
      "Epochs : 16\n"
     ]
    },
    {
     "name": "stderr",
     "output_type": "stream",
     "text": [
      " 22%|██▏       | 2/9 [00:00<00:00, 175.92it/s]\n",
      " 12%|█▎        | 1/8 [00:00<00:00, 318.26it/s]\n",
      "train_loss:1.9900991916656494 | val_loss:2.0927791595458984 | val_acc:0.3333333333333333 | test_loss:2.0880095958709717 | test_acc:0.0:  17%|█▋        | 17/100 [00:00<00:02, 35.36it/s]"
     ]
    },
    {
     "name": "stdout",
     "output_type": "stream",
     "text": [
      "Epochs : 17\n"
     ]
    },
    {
     "name": "stderr",
     "output_type": "stream",
     "text": [
      " 22%|██▏       | 2/9 [00:00<00:00, 199.94it/s]\n",
      " 12%|█▎        | 1/8 [00:00<00:00, 246.12it/s]\n",
      "train_loss:1.9853636026382446 | val_loss:2.0927791595458984 | val_acc:0.3333333333333333 | test_loss:2.088479995727539 | test_acc:0.0:  18%|█▊        | 18/100 [00:00<00:02, 35.36it/s] "
     ]
    },
    {
     "name": "stdout",
     "output_type": "stream",
     "text": [
      "Epochs : 18\n"
     ]
    },
    {
     "name": "stderr",
     "output_type": "stream",
     "text": [
      " 22%|██▏       | 2/9 [00:00<00:00, 206.14it/s]\n",
      " 12%|█▎        | 1/8 [00:00<00:00, 280.57it/s]\n",
      "train_loss:1.980648159980774 | val_loss:2.0927791595458984 | val_acc:0.3333333333333333 | test_loss:2.0889487266540527 | test_acc:0.0:  19%|█▉        | 19/100 [00:00<00:02, 35.36it/s]"
     ]
    },
    {
     "name": "stdout",
     "output_type": "stream",
     "text": [
      "Epochs : 19\n"
     ]
    },
    {
     "name": "stderr",
     "output_type": "stream",
     "text": [
      " 22%|██▏       | 2/9 [00:00<00:00, 127.84it/s]\n",
      " 12%|█▎        | 1/8 [00:00<00:00, 213.72it/s]\n",
      "train_loss:1.976073145866394 | val_loss:2.0927791595458984 | val_acc:0.3333333333333333 | test_loss:2.0894124507904053 | test_acc:0.0:  20%|██        | 20/100 [00:00<00:02, 35.16it/s]"
     ]
    },
    {
     "name": "stdout",
     "output_type": "stream",
     "text": [
      "Epochs : 20\n"
     ]
    },
    {
     "name": "stderr",
     "output_type": "stream",
     "text": [
      " 22%|██▏       | 2/9 [00:00<00:00, 171.44it/s]\n"
     ]
    },
    {
     "name": "stdout",
     "output_type": "stream",
     "text": [
      "Testing...\n"
     ]
    },
    {
     "name": "stderr",
     "output_type": "stream",
     "text": [
      " 22%|██▏       | 2/9 [00:00<00:00, 385.06it/s]\n",
      "train_loss:1.9715754985809326 | val_loss:2.026162564754486 | val_acc:0.3333333333333333 | test_loss:2.0894124507904053 | test_acc:0.0:  21%|██        | 21/100 [00:00<00:02, 35.16it/s]"
     ]
    },
    {
     "name": "stdout",
     "output_type": "stream",
     "text": [
      "Epochs : 21\n"
     ]
    },
    {
     "name": "stderr",
     "output_type": "stream",
     "text": [
      " 22%|██▏       | 2/9 [00:00<00:00, 206.91it/s]\n",
      " 12%|█▎        | 1/8 [00:00<00:00, 267.73it/s]\n",
      "train_loss:1.967119812965393 | val_loss:2.026162564754486 | val_acc:0.3333333333333333 | test_loss:2.0903258323669434 | test_acc:0.0:  22%|██▏       | 22/100 [00:00<00:02, 35.16it/s] "
     ]
    },
    {
     "name": "stdout",
     "output_type": "stream",
     "text": [
      "Epochs : 22\n"
     ]
    },
    {
     "name": "stderr",
     "output_type": "stream",
     "text": [
      " 22%|██▏       | 2/9 [00:00<00:00, 178.46it/s]\n",
      " 12%|█▎        | 1/8 [00:00<00:00, 267.75it/s]\n",
      "train_loss:1.96265709400177 | val_loss:2.026162564754486 | val_acc:0.3333333333333333 | test_loss:2.090815305709839 | test_acc:0.0:  23%|██▎       | 23/100 [00:00<00:02, 35.16it/s]  "
     ]
    },
    {
     "name": "stdout",
     "output_type": "stream",
     "text": [
      "Epochs : 23\n"
     ]
    },
    {
     "name": "stderr",
     "output_type": "stream",
     "text": [
      " 22%|██▏       | 2/9 [00:00<00:00, 181.11it/s]\n",
      " 12%|█▎        | 1/8 [00:00<00:00, 251.91it/s]\n",
      "train_loss:1.9580990076065063 | val_loss:2.026162564754486 | val_acc:0.3333333333333333 | test_loss:2.0913045406341553 | test_acc:0.0:  24%|██▍       | 24/100 [00:00<00:02, 35.16it/s]"
     ]
    },
    {
     "name": "stdout",
     "output_type": "stream",
     "text": [
      "Epochs : 24\n"
     ]
    },
    {
     "name": "stderr",
     "output_type": "stream",
     "text": [
      " 22%|██▏       | 2/9 [00:00<00:00, 210.92it/s]\n",
      " 12%|█▎        | 1/8 [00:00<00:00, 295.06it/s]\n",
      "train_loss:1.953497052192688 | val_loss:2.026162564754486 | val_acc:0.3333333333333333 | test_loss:2.0918009281158447 | test_acc:0.0:  25%|██▌       | 25/100 [00:00<00:02, 35.16it/s] "
     ]
    },
    {
     "name": "stdout",
     "output_type": "stream",
     "text": [
      "Epochs : 25\n"
     ]
    },
    {
     "name": "stderr",
     "output_type": "stream",
     "text": [
      " 22%|██▏       | 2/9 [00:00<00:00, 196.58it/s]\n",
      " 12%|█▎        | 1/8 [00:00<00:00, 116.34it/s]\n",
      "train_loss:1.9488787651062012 | val_loss:2.026162564754486 | val_acc:0.3333333333333333 | test_loss:2.0923097133636475 | test_acc:0.0:  26%|██▌       | 26/100 [00:00<00:01, 39.38it/s]"
     ]
    },
    {
     "name": "stdout",
     "output_type": "stream",
     "text": [
      "Epochs : 26\n"
     ]
    },
    {
     "name": "stderr",
     "output_type": "stream",
     "text": [
      " 22%|██▏       | 2/9 [00:00<00:00, 98.97it/s]\n",
      " 12%|█▎        | 1/8 [00:00<00:00, 200.44it/s]\n",
      "train_loss:1.9442815780639648 | val_loss:2.026162564754486 | val_acc:0.3333333333333333 | test_loss:2.092780828475952 | test_acc:0.0:  27%|██▋       | 27/100 [00:00<00:01, 39.38it/s] "
     ]
    },
    {
     "name": "stdout",
     "output_type": "stream",
     "text": [
      "Epochs : 27\n"
     ]
    },
    {
     "name": "stderr",
     "output_type": "stream",
     "text": [
      " 22%|██▏       | 2/9 [00:00<00:00, 162.77it/s]\n",
      " 12%|█▎        | 1/8 [00:00<00:00, 246.43it/s]\n",
      "train_loss:1.9396297931671143 | val_loss:2.026162564754486 | val_acc:0.3333333333333333 | test_loss:2.0932888984680176 | test_acc:0.0:  28%|██▊       | 28/100 [00:00<00:01, 39.38it/s]"
     ]
    },
    {
     "name": "stdout",
     "output_type": "stream",
     "text": [
      "Epochs : 28\n"
     ]
    },
    {
     "name": "stderr",
     "output_type": "stream",
     "text": [
      " 22%|██▏       | 2/9 [00:00<00:00, 208.51it/s]\n",
      " 12%|█▎        | 1/8 [00:00<00:00, 290.46it/s]\n",
      "train_loss:1.9348902702331543 | val_loss:2.026162564754486 | val_acc:0.3333333333333333 | test_loss:2.0938193798065186 | test_acc:0.0:  29%|██▉       | 29/100 [00:00<00:01, 39.38it/s]"
     ]
    },
    {
     "name": "stdout",
     "output_type": "stream",
     "text": [
      "Epochs : 29\n"
     ]
    },
    {
     "name": "stderr",
     "output_type": "stream",
     "text": [
      " 22%|██▏       | 2/9 [00:00<00:00, 210.33it/s]\n",
      " 12%|█▎        | 1/8 [00:00<00:00, 307.32it/s]\n",
      "train_loss:1.9302036762237549 | val_loss:2.026162564754486 | val_acc:0.3333333333333333 | test_loss:2.094315528869629 | test_acc:0.0:  30%|███       | 30/100 [00:00<00:01, 38.93it/s] "
     ]
    },
    {
     "name": "stdout",
     "output_type": "stream",
     "text": [
      "Epochs : 30\n"
     ]
    },
    {
     "name": "stderr",
     "output_type": "stream",
     "text": [
      " 22%|██▏       | 2/9 [00:00<00:00, 201.61it/s]\n"
     ]
    },
    {
     "name": "stdout",
     "output_type": "stream",
     "text": [
      "Testing...\n"
     ]
    },
    {
     "name": "stderr",
     "output_type": "stream",
     "text": [
      " 22%|██▏       | 2/9 [00:00<00:00, 516.00it/s]\n",
      "train_loss:1.925459384918213 | val_loss:1.998602569103241 | val_acc:0.3333333333333333 | test_loss:2.094315528869629 | test_acc:0.0:  31%|███       | 31/100 [00:00<00:01, 38.93it/s] "
     ]
    },
    {
     "name": "stdout",
     "output_type": "stream",
     "text": [
      "Epochs : 31\n"
     ]
    },
    {
     "name": "stderr",
     "output_type": "stream",
     "text": [
      " 22%|██▏       | 2/9 [00:00<00:00, 193.50it/s]\n",
      " 12%|█▎        | 1/8 [00:00<00:00, 152.03it/s]\n",
      "train_loss:1.9207651615142822 | val_loss:1.998602569103241 | val_acc:0.3333333333333333 | test_loss:2.095366954803467 | test_acc:0.0:  32%|███▏      | 32/100 [00:00<00:01, 38.93it/s]"
     ]
    },
    {
     "name": "stdout",
     "output_type": "stream",
     "text": [
      "Epochs : 32\n"
     ]
    },
    {
     "name": "stderr",
     "output_type": "stream",
     "text": [
      " 22%|██▏       | 2/9 [00:00<00:00, 170.20it/s]\n",
      " 12%|█▎        | 1/8 [00:00<00:00, 167.65it/s]\n",
      "train_loss:1.9160218238830566 | val_loss:1.998602569103241 | val_acc:0.3333333333333333 | test_loss:2.0959157943725586 | test_acc:0.0:  33%|███▎      | 33/100 [00:00<00:01, 38.93it/s]"
     ]
    },
    {
     "name": "stdout",
     "output_type": "stream",
     "text": [
      "Epochs : 33\n"
     ]
    },
    {
     "name": "stderr",
     "output_type": "stream",
     "text": [
      " 22%|██▏       | 2/9 [00:00<00:00, 143.49it/s]\n",
      " 12%|█▎        | 1/8 [00:00<00:00, 128.14it/s]\n",
      "train_loss:1.911293864250183 | val_loss:1.998602569103241 | val_acc:0.3333333333333333 | test_loss:2.096458911895752 | test_acc:0.0:  34%|███▍      | 34/100 [00:00<00:01, 36.35it/s]  "
     ]
    },
    {
     "name": "stdout",
     "output_type": "stream",
     "text": [
      "Epochs : 34\n"
     ]
    },
    {
     "name": "stderr",
     "output_type": "stream",
     "text": [
      " 22%|██▏       | 2/9 [00:00<00:00, 190.75it/s]\n",
      " 12%|█▎        | 1/8 [00:00<00:00, 220.56it/s]\n",
      "train_loss:1.9066200256347656 | val_loss:1.998602569103241 | val_acc:0.3333333333333333 | test_loss:2.0970144271850586 | test_acc:0.0:  35%|███▌      | 35/100 [00:00<00:01, 36.35it/s]"
     ]
    },
    {
     "name": "stdout",
     "output_type": "stream",
     "text": [
      "Epochs : 35\n"
     ]
    },
    {
     "name": "stderr",
     "output_type": "stream",
     "text": [
      " 22%|██▏       | 2/9 [00:00<00:00, 166.17it/s]\n",
      " 12%|█▎        | 1/8 [00:00<00:00, 286.05it/s]\n",
      "train_loss:1.9020159244537354 | val_loss:1.998602569103241 | val_acc:0.3333333333333333 | test_loss:2.097567558288574 | test_acc:0.0:  36%|███▌      | 36/100 [00:01<00:01, 36.35it/s] "
     ]
    },
    {
     "name": "stdout",
     "output_type": "stream",
     "text": [
      "Epochs : 36\n"
     ]
    },
    {
     "name": "stderr",
     "output_type": "stream",
     "text": [
      " 22%|██▏       | 2/9 [00:00<00:00, 202.18it/s]\n",
      " 12%|█▎        | 1/8 [00:00<00:00, 246.67it/s]\n",
      "train_loss:1.8974533081054688 | val_loss:1.998602569103241 | val_acc:0.3333333333333333 | test_loss:2.098135232925415 | test_acc:0.0:  37%|███▋      | 37/100 [00:01<00:01, 36.35it/s]"
     ]
    },
    {
     "name": "stdout",
     "output_type": "stream",
     "text": [
      "Epochs : 37\n"
     ]
    },
    {
     "name": "stderr",
     "output_type": "stream",
     "text": [
      " 22%|██▏       | 2/9 [00:00<00:00, 186.80it/s]\n",
      " 12%|█▎        | 1/8 [00:00<00:00, 263.86it/s]\n",
      "train_loss:1.8928357362747192 | val_loss:1.998602569103241 | val_acc:0.3333333333333333 | test_loss:2.098728656768799 | test_acc:0.0:  38%|███▊      | 38/100 [00:01<00:01, 36.35it/s]"
     ]
    },
    {
     "name": "stdout",
     "output_type": "stream",
     "text": [
      "Epochs : 38\n"
     ]
    },
    {
     "name": "stderr",
     "output_type": "stream",
     "text": [
      " 22%|██▏       | 2/9 [00:00<00:00, 193.33it/s]\n",
      " 12%|█▎        | 1/8 [00:00<00:00, 296.04it/s]\n",
      "train_loss:1.8882391452789307 | val_loss:1.998602569103241 | val_acc:0.3333333333333333 | test_loss:2.099285840988159 | test_acc:0.0:  39%|███▉      | 39/100 [00:01<00:01, 40.01it/s]"
     ]
    },
    {
     "name": "stdout",
     "output_type": "stream",
     "text": [
      "Epochs : 39\n"
     ]
    },
    {
     "name": "stderr",
     "output_type": "stream",
     "text": [
      " 22%|██▏       | 2/9 [00:00<00:00, 67.48it/s]\n",
      " 12%|█▎        | 1/8 [00:00<00:00, 247.03it/s]\n",
      "train_loss:1.8836791515350342 | val_loss:1.998602569103241 | val_acc:0.3333333333333333 | test_loss:2.099867820739746 | test_acc:0.0:  40%|████      | 40/100 [00:01<00:01, 40.01it/s]"
     ]
    },
    {
     "name": "stdout",
     "output_type": "stream",
     "text": [
      "Epochs : 40\n"
     ]
    },
    {
     "name": "stderr",
     "output_type": "stream",
     "text": [
      " 22%|██▏       | 2/9 [00:00<00:00, 184.81it/s]\n"
     ]
    },
    {
     "name": "stdout",
     "output_type": "stream",
     "text": [
      "Testing...\n"
     ]
    },
    {
     "name": "stderr",
     "output_type": "stream",
     "text": [
      " 22%|██▏       | 2/9 [00:00<00:00, 282.41it/s]\n",
      "train_loss:1.879113793373108 | val_loss:1.972263216972351 | val_acc:0.3333333333333333 | test_loss:2.099867820739746 | test_acc:0.0:  41%|████      | 41/100 [00:01<00:01, 40.01it/s] "
     ]
    },
    {
     "name": "stdout",
     "output_type": "stream",
     "text": [
      "Epochs : 41\n"
     ]
    },
    {
     "name": "stderr",
     "output_type": "stream",
     "text": [
      " 22%|██▏       | 2/9 [00:00<00:00, 156.35it/s]\n",
      " 12%|█▎        | 1/8 [00:00<00:00, 306.00it/s]\n",
      "train_loss:1.874556303024292 | val_loss:1.972263216972351 | val_acc:0.3333333333333333 | test_loss:2.1010773181915283 | test_acc:0.0:  42%|████▏     | 42/100 [00:01<00:01, 40.01it/s]"
     ]
    },
    {
     "name": "stdout",
     "output_type": "stream",
     "text": [
      "Epochs : 42\n"
     ]
    },
    {
     "name": "stderr",
     "output_type": "stream",
     "text": [
      " 22%|██▏       | 2/9 [00:00<00:00, 201.70it/s]\n",
      " 12%|█▎        | 1/8 [00:00<00:00, 260.16it/s]\n",
      "train_loss:1.8699572086334229 | val_loss:1.972263216972351 | val_acc:0.3333333333333333 | test_loss:2.101665496826172 | test_acc:0.0:  43%|████▎     | 43/100 [00:01<00:01, 40.01it/s]"
     ]
    },
    {
     "name": "stdout",
     "output_type": "stream",
     "text": [
      "Epochs : 43\n"
     ]
    },
    {
     "name": "stderr",
     "output_type": "stream",
     "text": [
      " 22%|██▏       | 2/9 [00:00<00:00, 204.42it/s]\n",
      " 12%|█▎        | 1/8 [00:00<00:00, 223.52it/s]\n",
      "train_loss:1.8653403520584106 | val_loss:1.972263216972351 | val_acc:0.3333333333333333 | test_loss:2.1022884845733643 | test_acc:0.0:  44%|████▍     | 44/100 [00:01<00:01, 38.47it/s]"
     ]
    },
    {
     "name": "stdout",
     "output_type": "stream",
     "text": [
      "Epochs : 44\n"
     ]
    },
    {
     "name": "stderr",
     "output_type": "stream",
     "text": [
      " 22%|██▏       | 2/9 [00:00<00:00, 182.62it/s]\n",
      " 12%|█▎        | 1/8 [00:00<00:00, 260.76it/s]\n",
      "train_loss:1.8607035875320435 | val_loss:1.972263216972351 | val_acc:0.3333333333333333 | test_loss:2.102907419204712 | test_acc:0.0:  45%|████▌     | 45/100 [00:01<00:01, 38.47it/s] "
     ]
    },
    {
     "name": "stdout",
     "output_type": "stream",
     "text": [
      "Epochs : 45\n"
     ]
    },
    {
     "name": "stderr",
     "output_type": "stream",
     "text": [
      " 22%|██▏       | 2/9 [00:00<00:00, 203.85it/s]\n",
      " 12%|█▎        | 1/8 [00:00<00:00, 353.47it/s]\n",
      "train_loss:1.855971336364746 | val_loss:1.972263216972351 | val_acc:0.3333333333333333 | test_loss:2.1035103797912598 | test_acc:0.0:  46%|████▌     | 46/100 [00:01<00:01, 38.47it/s]"
     ]
    },
    {
     "name": "stdout",
     "output_type": "stream",
     "text": [
      "Epochs : 46\n"
     ]
    },
    {
     "name": "stderr",
     "output_type": "stream",
     "text": [
      " 22%|██▏       | 2/9 [00:00<00:00, 114.78it/s]\n",
      " 12%|█▎        | 1/8 [00:00<00:00, 136.89it/s]\n",
      "train_loss:1.8511961698532104 | val_loss:1.972263216972351 | val_acc:0.3333333333333333 | test_loss:2.1040964126586914 | test_acc:0.0:  47%|████▋     | 47/100 [00:01<00:01, 38.47it/s]"
     ]
    },
    {
     "name": "stdout",
     "output_type": "stream",
     "text": [
      "Epochs : 47\n"
     ]
    },
    {
     "name": "stderr",
     "output_type": "stream",
     "text": [
      " 22%|██▏       | 2/9 [00:00<00:00, 122.75it/s]\n",
      " 12%|█▎        | 1/8 [00:00<00:00, 268.47it/s]\n",
      "train_loss:1.846375584602356 | val_loss:1.972263216972351 | val_acc:0.3333333333333333 | test_loss:2.1047298908233643 | test_acc:0.0:  48%|████▊     | 48/100 [00:01<00:01, 37.18it/s] "
     ]
    },
    {
     "name": "stdout",
     "output_type": "stream",
     "text": [
      "Epochs : 48\n"
     ]
    },
    {
     "name": "stderr",
     "output_type": "stream",
     "text": [
      " 22%|██▏       | 2/9 [00:00<00:00, 171.13it/s]\n",
      " 12%|█▎        | 1/8 [00:00<00:00, 292.41it/s]\n",
      "train_loss:1.841490387916565 | val_loss:1.972263216972351 | val_acc:0.3333333333333333 | test_loss:2.1053481101989746 | test_acc:0.0:  49%|████▉     | 49/100 [00:01<00:01, 37.18it/s]"
     ]
    },
    {
     "name": "stdout",
     "output_type": "stream",
     "text": [
      "Epochs : 49\n"
     ]
    },
    {
     "name": "stderr",
     "output_type": "stream",
     "text": [
      " 22%|██▏       | 2/9 [00:00<00:00, 179.01it/s]\n",
      " 12%|█▎        | 1/8 [00:00<00:00, 283.59it/s]\n",
      "train_loss:1.8365938663482666 | val_loss:1.972263216972351 | val_acc:0.3333333333333333 | test_loss:2.1060376167297363 | test_acc:0.0:  50%|█████     | 50/100 [00:01<00:01, 37.18it/s]"
     ]
    },
    {
     "name": "stdout",
     "output_type": "stream",
     "text": [
      "Epochs : 50\n"
     ]
    },
    {
     "name": "stderr",
     "output_type": "stream",
     "text": [
      " 22%|██▏       | 2/9 [00:00<00:00, 207.88it/s]\n"
     ]
    },
    {
     "name": "stdout",
     "output_type": "stream",
     "text": [
      "Testing...\n"
     ]
    },
    {
     "name": "stderr",
     "output_type": "stream",
     "text": [
      " 22%|██▏       | 2/9 [00:00<00:00, 529.65it/s]\n",
      "train_loss:1.8316911458969116 | val_loss:2.0667529106140137 | val_acc:0.3333333333333333 | test_loss:2.1060376167297363 | test_acc:0.0:  51%|█████     | 51/100 [00:01<00:01, 37.18it/s]"
     ]
    },
    {
     "name": "stdout",
     "output_type": "stream",
     "text": [
      "Epochs : 51\n"
     ]
    },
    {
     "name": "stderr",
     "output_type": "stream",
     "text": [
      " 22%|██▏       | 2/9 [00:00<00:00, 234.79it/s]\n",
      " 12%|█▎        | 1/8 [00:00<00:00, 280.41it/s]\n",
      "train_loss:1.826659917831421 | val_loss:2.0667529106140137 | val_acc:0.3333333333333333 | test_loss:2.1073715686798096 | test_acc:0.0:  52%|█████▏    | 52/100 [00:01<00:01, 37.18it/s] "
     ]
    },
    {
     "name": "stdout",
     "output_type": "stream",
     "text": [
      "Epochs : 52\n"
     ]
    },
    {
     "name": "stderr",
     "output_type": "stream",
     "text": [
      " 22%|██▏       | 2/9 [00:00<00:00, 204.17it/s]\n",
      " 12%|█▎        | 1/8 [00:00<00:00, 211.28it/s]\n",
      "train_loss:1.8216091394424438 | val_loss:2.0667529106140137 | val_acc:0.3333333333333333 | test_loss:2.108084201812744 | test_acc:0.0:  53%|█████▎    | 53/100 [00:01<00:01, 40.23it/s]"
     ]
    },
    {
     "name": "stdout",
     "output_type": "stream",
     "text": [
      "Epochs : 53\n"
     ]
    },
    {
     "name": "stderr",
     "output_type": "stream",
     "text": [
      " 22%|██▏       | 2/9 [00:00<00:00, 189.63it/s]\n",
      " 12%|█▎        | 1/8 [00:00<00:00, 292.90it/s]\n",
      "train_loss:1.8165279626846313 | val_loss:2.0667529106140137 | val_acc:0.3333333333333333 | test_loss:2.1088271141052246 | test_acc:0.0:  54%|█████▍    | 54/100 [00:01<00:01, 40.23it/s]"
     ]
    },
    {
     "name": "stdout",
     "output_type": "stream",
     "text": [
      "Epochs : 54\n"
     ]
    },
    {
     "name": "stderr",
     "output_type": "stream",
     "text": [
      " 22%|██▏       | 2/9 [00:00<00:00, 74.37it/s]\n",
      " 12%|█▎        | 1/8 [00:00<00:00, 271.23it/s]\n",
      "train_loss:1.8114157915115356 | val_loss:2.0667529106140137 | val_acc:0.3333333333333333 | test_loss:2.1095845699310303 | test_acc:0.0:  55%|█████▌    | 55/100 [00:01<00:01, 40.23it/s]"
     ]
    },
    {
     "name": "stdout",
     "output_type": "stream",
     "text": [
      "Epochs : 55\n"
     ]
    },
    {
     "name": "stderr",
     "output_type": "stream",
     "text": [
      " 22%|██▏       | 2/9 [00:00<00:00, 129.90it/s]\n",
      " 12%|█▎        | 1/8 [00:00<00:00, 206.48it/s]\n",
      "train_loss:1.8061851263046265 | val_loss:2.0667529106140137 | val_acc:0.3333333333333333 | test_loss:2.1103250980377197 | test_acc:0.0:  56%|█████▌    | 56/100 [00:01<00:01, 40.23it/s]"
     ]
    },
    {
     "name": "stdout",
     "output_type": "stream",
     "text": [
      "Epochs : 56\n"
     ]
    },
    {
     "name": "stderr",
     "output_type": "stream",
     "text": [
      " 22%|██▏       | 2/9 [00:00<00:00, 162.84it/s]\n",
      " 12%|█▎        | 1/8 [00:00<00:00, 256.94it/s]\n",
      "train_loss:1.8009127378463745 | val_loss:2.0667529106140137 | val_acc:0.3333333333333333 | test_loss:2.1111221313476562 | test_acc:0.0:  57%|█████▋    | 57/100 [00:01<00:01, 40.23it/s]"
     ]
    },
    {
     "name": "stdout",
     "output_type": "stream",
     "text": [
      "Epochs : 57\n"
     ]
    },
    {
     "name": "stderr",
     "output_type": "stream",
     "text": [
      " 22%|██▏       | 2/9 [00:00<00:00, 191.13it/s]\n",
      " 12%|█▎        | 1/8 [00:00<00:00, 232.13it/s]\n",
      "train_loss:1.7956703901290894 | val_loss:2.0667529106140137 | val_acc:0.3333333333333333 | test_loss:2.1118857860565186 | test_acc:0.0:  58%|█████▊    | 58/100 [00:01<00:01, 38.67it/s]"
     ]
    },
    {
     "name": "stdout",
     "output_type": "stream",
     "text": [
      "Epochs : 58\n"
     ]
    },
    {
     "name": "stderr",
     "output_type": "stream",
     "text": [
      " 22%|██▏       | 2/9 [00:00<00:00, 160.58it/s]\n",
      " 12%|█▎        | 1/8 [00:00<00:00, 232.35it/s]\n",
      "train_loss:1.7903343439102173 | val_loss:2.0667529106140137 | val_acc:0.3333333333333333 | test_loss:2.112680673599243 | test_acc:0.0:  59%|█████▉    | 59/100 [00:01<00:01, 38.67it/s] "
     ]
    },
    {
     "name": "stdout",
     "output_type": "stream",
     "text": [
      "Epochs : 59\n"
     ]
    },
    {
     "name": "stderr",
     "output_type": "stream",
     "text": [
      " 22%|██▏       | 2/9 [00:00<00:00, 199.04it/s]\n",
      " 12%|█▎        | 1/8 [00:00<00:00, 259.82it/s]\n",
      "train_loss:1.784839391708374 | val_loss:2.0667529106140137 | val_acc:0.3333333333333333 | test_loss:2.1135616302490234 | test_acc:0.0:  60%|██████    | 60/100 [00:01<00:01, 38.67it/s]"
     ]
    },
    {
     "name": "stdout",
     "output_type": "stream",
     "text": [
      "Epochs : 60\n"
     ]
    },
    {
     "name": "stderr",
     "output_type": "stream",
     "text": [
      " 22%|██▏       | 2/9 [00:00<00:00, 155.30it/s]\n"
     ]
    },
    {
     "name": "stdout",
     "output_type": "stream",
     "text": [
      "Testing...\n"
     ]
    },
    {
     "name": "stderr",
     "output_type": "stream",
     "text": [
      " 22%|██▏       | 2/9 [00:00<00:00, 493.19it/s]\n",
      "train_loss:1.779344916343689 | val_loss:2.0698702335357666 | val_acc:0.3333333333333333 | test_loss:2.1135616302490234 | test_acc:0.0:  61%|██████    | 61/100 [00:01<00:01, 38.67it/s]"
     ]
    },
    {
     "name": "stdout",
     "output_type": "stream",
     "text": [
      "Epochs : 61\n"
     ]
    },
    {
     "name": "stderr",
     "output_type": "stream",
     "text": [
      " 22%|██▏       | 2/9 [00:00<00:00, 40.18it/s]\n",
      " 12%|█▎        | 1/8 [00:00<00:00, 182.64it/s]\n",
      "train_loss:1.7737762928009033 | val_loss:2.0698702335357666 | val_acc:0.3333333333333333 | test_loss:2.1152994632720947 | test_acc:0.0:  62%|██████▏   | 62/100 [00:01<00:01, 36.38it/s]"
     ]
    },
    {
     "name": "stdout",
     "output_type": "stream",
     "text": [
      "Epochs : 62\n"
     ]
    },
    {
     "name": "stderr",
     "output_type": "stream",
     "text": [
      " 22%|██▏       | 2/9 [00:00<00:00, 114.78it/s]\n",
      " 12%|█▎        | 1/8 [00:00<00:00, 217.39it/s]\n",
      "train_loss:1.768188238143921 | val_loss:2.0698702335357666 | val_acc:0.3333333333333333 | test_loss:2.1162376403808594 | test_acc:0.0:  63%|██████▎   | 63/100 [00:01<00:01, 36.38it/s] "
     ]
    },
    {
     "name": "stdout",
     "output_type": "stream",
     "text": [
      "Epochs : 63\n"
     ]
    },
    {
     "name": "stderr",
     "output_type": "stream",
     "text": [
      " 22%|██▏       | 2/9 [00:00<00:00, 178.55it/s]\n",
      " 12%|█▎        | 1/8 [00:00<00:00, 307.01it/s]\n",
      "train_loss:1.7625149488449097 | val_loss:2.0698702335357666 | val_acc:0.3333333333333333 | test_loss:2.1171629428863525 | test_acc:0.0:  64%|██████▍   | 64/100 [00:01<00:00, 36.38it/s]"
     ]
    },
    {
     "name": "stdout",
     "output_type": "stream",
     "text": [
      "Epochs : 64\n"
     ]
    },
    {
     "name": "stderr",
     "output_type": "stream",
     "text": [
      " 22%|██▏       | 2/9 [00:00<00:00, 223.79it/s]\n",
      " 12%|█▎        | 1/8 [00:00<00:00, 279.47it/s]\n",
      "train_loss:1.7568185329437256 | val_loss:2.0698702335357666 | val_acc:0.3333333333333333 | test_loss:2.118154525756836 | test_acc:0.0:  65%|██████▌   | 65/100 [00:01<00:00, 36.38it/s] "
     ]
    },
    {
     "name": "stdout",
     "output_type": "stream",
     "text": [
      "Epochs : 65\n"
     ]
    },
    {
     "name": "stderr",
     "output_type": "stream",
     "text": [
      " 22%|██▏       | 2/9 [00:00<00:00, 182.99it/s]\n",
      " 12%|█▎        | 1/8 [00:00<00:00, 262.26it/s]\n",
      "train_loss:1.751121997833252 | val_loss:2.0698702335357666 | val_acc:0.3333333333333333 | test_loss:2.1191272735595703 | test_acc:0.0:  66%|██████▌   | 66/100 [00:01<00:00, 36.38it/s]"
     ]
    },
    {
     "name": "stdout",
     "output_type": "stream",
     "text": [
      "Epochs : 66\n"
     ]
    },
    {
     "name": "stderr",
     "output_type": "stream",
     "text": [
      " 22%|██▏       | 2/9 [00:00<00:00, 169.91it/s]\n",
      " 12%|█▎        | 1/8 [00:00<00:00, 199.36it/s]\n",
      "train_loss:1.7453012466430664 | val_loss:2.0698702335357666 | val_acc:0.3333333333333333 | test_loss:2.1201369762420654 | test_acc:0.0:  67%|██████▋   | 67/100 [00:01<00:00, 38.43it/s]"
     ]
    },
    {
     "name": "stdout",
     "output_type": "stream",
     "text": [
      "Epochs : 67\n"
     ]
    },
    {
     "name": "stderr",
     "output_type": "stream",
     "text": [
      " 22%|██▏       | 2/9 [00:00<00:00, 197.86it/s]\n",
      " 12%|█▎        | 1/8 [00:00<00:00, 317.56it/s]\n",
      "train_loss:1.7394914627075195 | val_loss:2.0698702335357666 | val_acc:0.3333333333333333 | test_loss:2.1211307048797607 | test_acc:0.0:  68%|██████▊   | 68/100 [00:01<00:00, 38.43it/s]"
     ]
    },
    {
     "name": "stdout",
     "output_type": "stream",
     "text": [
      "Epochs : 68\n"
     ]
    },
    {
     "name": "stderr",
     "output_type": "stream",
     "text": [
      " 22%|██▏       | 2/9 [00:00<00:00, 63.21it/s]\n",
      " 12%|█▎        | 1/8 [00:00<00:00, 282.96it/s]\n",
      "train_loss:1.7336163520812988 | val_loss:2.0698702335357666 | val_acc:0.3333333333333333 | test_loss:2.1221675872802734 | test_acc:0.0:  69%|██████▉   | 69/100 [00:01<00:00, 38.43it/s]"
     ]
    },
    {
     "name": "stdout",
     "output_type": "stream",
     "text": [
      "Epochs : 69\n"
     ]
    },
    {
     "name": "stderr",
     "output_type": "stream",
     "text": [
      " 22%|██▏       | 2/9 [00:00<00:00, 113.99it/s]\n",
      " 12%|█▎        | 1/8 [00:00<00:00, 232.77it/s]\n",
      "train_loss:1.7277559041976929 | val_loss:2.0698702335357666 | val_acc:0.3333333333333333 | test_loss:2.1231882572174072 | test_acc:0.0:  70%|███████   | 70/100 [00:01<00:00, 38.43it/s]"
     ]
    },
    {
     "name": "stdout",
     "output_type": "stream",
     "text": [
      "Epochs : 70\n"
     ]
    },
    {
     "name": "stderr",
     "output_type": "stream",
     "text": [
      " 22%|██▏       | 2/9 [00:00<00:00, 157.89it/s]\n"
     ]
    },
    {
     "name": "stdout",
     "output_type": "stream",
     "text": [
      "Testing...\n"
     ]
    },
    {
     "name": "stderr",
     "output_type": "stream",
     "text": [
      " 22%|██▏       | 2/9 [00:00<00:00, 443.75it/s]\n",
      "train_loss:1.7218523025512695 | val_loss:2.058991551399231 | val_acc:0.3333333333333333 | test_loss:2.1231882572174072 | test_acc:0.0:  71%|███████   | 71/100 [00:01<00:00, 36.66it/s] "
     ]
    },
    {
     "name": "stdout",
     "output_type": "stream",
     "text": [
      "Epochs : 71\n"
     ]
    },
    {
     "name": "stderr",
     "output_type": "stream",
     "text": [
      " 22%|██▏       | 2/9 [00:00<00:00, 168.22it/s]\n",
      " 12%|█▎        | 1/8 [00:00<00:00, 239.51it/s]\n",
      "train_loss:1.7159240245819092 | val_loss:2.058991551399231 | val_acc:0.3333333333333333 | test_loss:2.125319719314575 | test_acc:0.0:  72%|███████▏  | 72/100 [00:01<00:00, 36.66it/s] "
     ]
    },
    {
     "name": "stdout",
     "output_type": "stream",
     "text": [
      "Epochs : 72\n"
     ]
    },
    {
     "name": "stderr",
     "output_type": "stream",
     "text": [
      " 22%|██▏       | 2/9 [00:00<00:00, 154.70it/s]\n",
      " 12%|█▎        | 1/8 [00:00<00:00, 191.82it/s]\n",
      "train_loss:1.7099897861480713 | val_loss:2.058991551399231 | val_acc:0.3333333333333333 | test_loss:2.1263980865478516 | test_acc:0.0:  73%|███████▎  | 73/100 [00:01<00:00, 36.66it/s]"
     ]
    },
    {
     "name": "stdout",
     "output_type": "stream",
     "text": [
      "Epochs : 73\n"
     ]
    },
    {
     "name": "stderr",
     "output_type": "stream",
     "text": [
      " 22%|██▏       | 2/9 [00:00<00:00, 99.73it/s]\n",
      " 12%|█▎        | 1/8 [00:00<00:00, 220.79it/s]\n",
      "train_loss:1.7039899826049805 | val_loss:2.058991551399231 | val_acc:0.3333333333333333 | test_loss:2.127483367919922 | test_acc:0.0:  74%|███████▍  | 74/100 [00:02<00:00, 36.66it/s] "
     ]
    },
    {
     "name": "stdout",
     "output_type": "stream",
     "text": [
      "Epochs : 74\n"
     ]
    },
    {
     "name": "stderr",
     "output_type": "stream",
     "text": [
      " 22%|██▏       | 2/9 [00:00<00:00, 56.48it/s]\n",
      " 12%|█▎        | 1/8 [00:00<00:00, 205.80it/s]\n",
      "train_loss:1.6979602575302124 | val_loss:2.058991551399231 | val_acc:0.3333333333333333 | test_loss:2.1285996437072754 | test_acc:0.0:  75%|███████▌  | 75/100 [00:02<00:00, 33.36it/s]"
     ]
    },
    {
     "name": "stdout",
     "output_type": "stream",
     "text": [
      "Epochs : 75\n"
     ]
    },
    {
     "name": "stderr",
     "output_type": "stream",
     "text": [
      " 22%|██▏       | 2/9 [00:00<00:00, 157.42it/s]\n",
      " 12%|█▎        | 1/8 [00:00<00:00, 212.63it/s]\n",
      "train_loss:1.6919142007827759 | val_loss:2.058991551399231 | val_acc:0.3333333333333333 | test_loss:2.129709482192993 | test_acc:0.0:  76%|███████▌  | 76/100 [00:02<00:00, 33.36it/s] "
     ]
    },
    {
     "name": "stdout",
     "output_type": "stream",
     "text": [
      "Epochs : 76\n"
     ]
    },
    {
     "name": "stderr",
     "output_type": "stream",
     "text": [
      " 22%|██▏       | 2/9 [00:00<00:00, 154.81it/s]\n",
      " 12%|█▎        | 1/8 [00:00<00:00, 172.08it/s]\n",
      "train_loss:1.685781478881836 | val_loss:2.058991551399231 | val_acc:0.3333333333333333 | test_loss:2.1308693885803223 | test_acc:0.0:  77%|███████▋  | 77/100 [00:02<00:00, 33.36it/s]"
     ]
    },
    {
     "name": "stdout",
     "output_type": "stream",
     "text": [
      "Epochs : 77\n"
     ]
    },
    {
     "name": "stderr",
     "output_type": "stream",
     "text": [
      " 22%|██▏       | 2/9 [00:00<00:00, 164.38it/s]\n",
      " 12%|█▎        | 1/8 [00:00<00:00, 257.60it/s]\n",
      "train_loss:1.6796265840530396 | val_loss:2.058991551399231 | val_acc:0.3333333333333333 | test_loss:2.1320433616638184 | test_acc:0.0:  78%|███████▊  | 78/100 [00:02<00:00, 33.36it/s]"
     ]
    },
    {
     "name": "stdout",
     "output_type": "stream",
     "text": [
      "Epochs : 78\n"
     ]
    },
    {
     "name": "stderr",
     "output_type": "stream",
     "text": [
      " 22%|██▏       | 2/9 [00:00<00:00, 189.88it/s]\n",
      " 12%|█▎        | 1/8 [00:00<00:00, 302.73it/s]\n",
      "train_loss:1.6733949184417725 | val_loss:2.058991551399231 | val_acc:0.3333333333333333 | test_loss:2.1332175731658936 | test_acc:0.0:  79%|███████▉  | 79/100 [00:02<00:00, 33.36it/s]"
     ]
    },
    {
     "name": "stdout",
     "output_type": "stream",
     "text": [
      "Epochs : 79\n"
     ]
    },
    {
     "name": "stderr",
     "output_type": "stream",
     "text": [
      " 22%|██▏       | 2/9 [00:00<00:00, 196.49it/s]\n",
      " 12%|█▎        | 1/8 [00:00<00:00, 291.74it/s]\n",
      "train_loss:1.667123794555664 | val_loss:2.058991551399231 | val_acc:0.3333333333333333 | test_loss:2.1344141960144043 | test_acc:0.0:  80%|████████  | 80/100 [00:02<00:00, 36.16it/s] "
     ]
    },
    {
     "name": "stdout",
     "output_type": "stream",
     "text": [
      "Epochs : 80\n"
     ]
    },
    {
     "name": "stderr",
     "output_type": "stream",
     "text": [
      " 22%|██▏       | 2/9 [00:00<00:00, 178.54it/s]\n"
     ]
    },
    {
     "name": "stdout",
     "output_type": "stream",
     "text": [
      "Testing...\n"
     ]
    },
    {
     "name": "stderr",
     "output_type": "stream",
     "text": [
      " 22%|██▏       | 2/9 [00:00<00:00, 456.85it/s]\n",
      "train_loss:1.6607767343521118 | val_loss:2.0537214279174805 | val_acc:0.3333333333333333 | test_loss:2.1344141960144043 | test_acc:0.0:  81%|████████  | 81/100 [00:02<00:00, 36.16it/s]"
     ]
    },
    {
     "name": "stdout",
     "output_type": "stream",
     "text": [
      "Epochs : 81\n"
     ]
    },
    {
     "name": "stderr",
     "output_type": "stream",
     "text": [
      " 22%|██▏       | 2/9 [00:00<00:00, 73.05it/s]\n",
      " 12%|█▎        | 1/8 [00:00<00:00, 285.48it/s]\n",
      "train_loss:1.654437780380249 | val_loss:2.0537214279174805 | val_acc:0.3333333333333333 | test_loss:2.1369004249572754 | test_acc:0.0:  82%|████████▏ | 82/100 [00:02<00:00, 36.16it/s] "
     ]
    },
    {
     "name": "stdout",
     "output_type": "stream",
     "text": [
      "Epochs : 82\n"
     ]
    },
    {
     "name": "stderr",
     "output_type": "stream",
     "text": [
      " 22%|██▏       | 2/9 [00:00<00:00, 141.86it/s]\n",
      " 12%|█▎        | 1/8 [00:00<00:00, 255.61it/s]\n",
      "train_loss:1.6479893922805786 | val_loss:2.0537214279174805 | val_acc:0.3333333333333333 | test_loss:2.1381378173828125 | test_acc:0.0:  83%|████████▎ | 83/100 [00:02<00:00, 36.16it/s]"
     ]
    },
    {
     "name": "stdout",
     "output_type": "stream",
     "text": [
      "Epochs : 83\n"
     ]
    },
    {
     "name": "stderr",
     "output_type": "stream",
     "text": [
      " 22%|██▏       | 2/9 [00:00<00:00, 192.40it/s]\n",
      " 12%|█▎        | 1/8 [00:00<00:00, 266.61it/s]\n",
      "train_loss:1.6415058374404907 | val_loss:2.0537214279174805 | val_acc:0.3333333333333333 | test_loss:2.139434576034546 | test_acc:0.0:  84%|████████▍ | 84/100 [00:02<00:00, 34.93it/s] "
     ]
    },
    {
     "name": "stdout",
     "output_type": "stream",
     "text": [
      "Epochs : 84\n"
     ]
    },
    {
     "name": "stderr",
     "output_type": "stream",
     "text": [
      " 22%|██▏       | 2/9 [00:00<00:00, 201.97it/s]\n",
      " 12%|█▎        | 1/8 [00:00<00:00, 271.37it/s]\n",
      "train_loss:1.6349520683288574 | val_loss:2.0537214279174805 | val_acc:0.3333333333333333 | test_loss:2.140726327896118 | test_acc:0.0:  85%|████████▌ | 85/100 [00:02<00:00, 34.93it/s]"
     ]
    },
    {
     "name": "stdout",
     "output_type": "stream",
     "text": [
      "Epochs : 85\n"
     ]
    },
    {
     "name": "stderr",
     "output_type": "stream",
     "text": [
      " 22%|██▏       | 2/9 [00:00<00:00, 196.64it/s]\n",
      " 12%|█▎        | 1/8 [00:00<00:00, 242.59it/s]\n",
      "train_loss:1.628333330154419 | val_loss:2.0537214279174805 | val_acc:0.3333333333333333 | test_loss:2.1420741081237793 | test_acc:0.0:  86%|████████▌ | 86/100 [00:02<00:00, 34.93it/s]"
     ]
    },
    {
     "name": "stdout",
     "output_type": "stream",
     "text": [
      "Epochs : 86\n"
     ]
    },
    {
     "name": "stderr",
     "output_type": "stream",
     "text": [
      " 22%|██▏       | 2/9 [00:00<00:00, 180.11it/s]\n",
      " 12%|█▎        | 1/8 [00:00<00:00, 244.44it/s]\n",
      "train_loss:1.6216795444488525 | val_loss:2.0537214279174805 | val_acc:0.3333333333333333 | test_loss:2.143423318862915 | test_acc:0.0:  87%|████████▋ | 87/100 [00:02<00:00, 34.93it/s]"
     ]
    },
    {
     "name": "stdout",
     "output_type": "stream",
     "text": [
      "Epochs : 87\n"
     ]
    },
    {
     "name": "stderr",
     "output_type": "stream",
     "text": [
      " 22%|██▏       | 2/9 [00:00<00:00, 208.64it/s]\n",
      " 12%|█▎        | 1/8 [00:00<00:00, 264.98it/s]\n",
      "train_loss:1.6149100065231323 | val_loss:2.0537214279174805 | val_acc:0.3333333333333333 | test_loss:2.144836902618408 | test_acc:0.0:  88%|████████▊ | 88/100 [00:02<00:00, 34.93it/s]"
     ]
    },
    {
     "name": "stdout",
     "output_type": "stream",
     "text": [
      "Epochs : 88\n"
     ]
    },
    {
     "name": "stderr",
     "output_type": "stream",
     "text": [
      " 22%|██▏       | 2/9 [00:00<00:00, 61.85it/s]\n",
      " 12%|█▎        | 1/8 [00:00<00:00, 296.73it/s]\n",
      "train_loss:1.6081173419952393 | val_loss:2.0537214279174805 | val_acc:0.3333333333333333 | test_loss:2.1462419033050537 | test_acc:0.0:  89%|████████▉ | 89/100 [00:02<00:00, 35.58it/s]"
     ]
    },
    {
     "name": "stdout",
     "output_type": "stream",
     "text": [
      "Epochs : 89\n"
     ]
    },
    {
     "name": "stderr",
     "output_type": "stream",
     "text": [
      " 22%|██▏       | 2/9 [00:00<00:00, 152.39it/s]\n",
      " 12%|█▎        | 1/8 [00:00<00:00, 141.17it/s]\n",
      "train_loss:1.6011905670166016 | val_loss:2.0537214279174805 | val_acc:0.3333333333333333 | test_loss:2.1476902961730957 | test_acc:0.0:  90%|█████████ | 90/100 [00:02<00:00, 35.58it/s]"
     ]
    },
    {
     "name": "stdout",
     "output_type": "stream",
     "text": [
      "Epochs : 90\n"
     ]
    },
    {
     "name": "stderr",
     "output_type": "stream",
     "text": [
      " 22%|██▏       | 2/9 [00:00<00:00, 180.22it/s]\n"
     ]
    },
    {
     "name": "stdout",
     "output_type": "stream",
     "text": [
      "Testing...\n"
     ]
    },
    {
     "name": "stderr",
     "output_type": "stream",
     "text": [
      " 22%|██▏       | 2/9 [00:00<00:00, 471.93it/s]\n",
      "train_loss:1.594260573387146 | val_loss:2.0515419244766235 | val_acc:0.3333333333333333 | test_loss:2.1476902961730957 | test_acc:0.0:  91%|█████████ | 91/100 [00:02<00:00, 35.58it/s] "
     ]
    },
    {
     "name": "stdout",
     "output_type": "stream",
     "text": [
      "Epochs : 91\n"
     ]
    },
    {
     "name": "stderr",
     "output_type": "stream",
     "text": [
      " 22%|██▏       | 2/9 [00:00<00:00, 169.62it/s]\n",
      " 12%|█▎        | 1/8 [00:00<00:00, 245.90it/s]\n",
      "train_loss:1.5872138738632202 | val_loss:2.0515419244766235 | val_acc:0.3333333333333333 | test_loss:2.1506662368774414 | test_acc:0.0:  92%|█████████▏| 92/100 [00:02<00:00, 35.58it/s]"
     ]
    },
    {
     "name": "stdout",
     "output_type": "stream",
     "text": [
      "Epochs : 92\n"
     ]
    },
    {
     "name": "stderr",
     "output_type": "stream",
     "text": [
      " 22%|██▏       | 2/9 [00:00<00:00, 168.04it/s]\n",
      " 12%|█▎        | 1/8 [00:00<00:00, 199.72it/s]\n",
      "train_loss:1.5801386833190918 | val_loss:2.0515419244766235 | val_acc:0.3333333333333333 | test_loss:2.1521925926208496 | test_acc:0.0:  93%|█████████▎| 93/100 [00:02<00:00, 35.58it/s]"
     ]
    },
    {
     "name": "stdout",
     "output_type": "stream",
     "text": [
      "Epochs : 93\n"
     ]
    },
    {
     "name": "stderr",
     "output_type": "stream",
     "text": [
      " 22%|██▏       | 2/9 [00:00<00:00, 207.19it/s]\n",
      " 12%|█▎        | 1/8 [00:00<00:00, 259.81it/s]\n",
      "train_loss:1.5729585886001587 | val_loss:2.0515419244766235 | val_acc:0.3333333333333333 | test_loss:2.153719902038574 | test_acc:0.0:  94%|█████████▍| 94/100 [00:02<00:00, 38.04it/s] "
     ]
    },
    {
     "name": "stdout",
     "output_type": "stream",
     "text": [
      "Epochs : 94\n"
     ]
    },
    {
     "name": "stderr",
     "output_type": "stream",
     "text": [
      " 22%|██▏       | 2/9 [00:00<00:00, 170.99it/s]\n",
      " 12%|█▎        | 1/8 [00:00<00:00, 358.79it/s]\n",
      "train_loss:1.565730333328247 | val_loss:2.0515419244766235 | val_acc:0.3333333333333333 | test_loss:2.155303478240967 | test_acc:0.0:  95%|█████████▌| 95/100 [00:02<00:00, 38.04it/s] "
     ]
    },
    {
     "name": "stdout",
     "output_type": "stream",
     "text": [
      "Epochs : 95\n"
     ]
    },
    {
     "name": "stderr",
     "output_type": "stream",
     "text": [
      " 22%|██▏       | 2/9 [00:00<00:00, 40.60it/s]\n",
      " 12%|█▎        | 1/8 [00:00<00:00, 140.70it/s]\n",
      "train_loss:1.5584471225738525 | val_loss:2.0515419244766235 | val_acc:0.3333333333333333 | test_loss:2.15690279006958 | test_acc:0.0:  96%|█████████▌| 96/100 [00:02<00:00, 38.04it/s]"
     ]
    },
    {
     "name": "stdout",
     "output_type": "stream",
     "text": [
      "Epochs : 96\n"
     ]
    },
    {
     "name": "stderr",
     "output_type": "stream",
     "text": [
      " 22%|██▏       | 2/9 [00:00<00:00, 151.11it/s]\n",
      " 12%|█▎        | 1/8 [00:00<00:00, 254.96it/s]\n",
      "train_loss:1.5510364770889282 | val_loss:2.0515419244766235 | val_acc:0.3333333333333333 | test_loss:2.158534526824951 | test_acc:0.0:  97%|█████████▋| 97/100 [00:02<00:00, 38.04it/s]"
     ]
    },
    {
     "name": "stdout",
     "output_type": "stream",
     "text": [
      "Epochs : 97\n"
     ]
    },
    {
     "name": "stderr",
     "output_type": "stream",
     "text": [
      " 22%|██▏       | 2/9 [00:00<00:00, 124.85it/s]\n",
      " 12%|█▎        | 1/8 [00:00<00:00, 299.49it/s]\n",
      "train_loss:1.5435972213745117 | val_loss:2.0515419244766235 | val_acc:0.3333333333333333 | test_loss:2.1602234840393066 | test_acc:0.0:  98%|█████████▊| 98/100 [00:02<00:00, 35.52it/s]"
     ]
    },
    {
     "name": "stdout",
     "output_type": "stream",
     "text": [
      "Epochs : 98\n"
     ]
    },
    {
     "name": "stderr",
     "output_type": "stream",
     "text": [
      " 22%|██▏       | 2/9 [00:00<00:00, 179.92it/s]\n",
      " 12%|█▎        | 1/8 [00:00<00:00, 250.26it/s]\n",
      "train_loss:1.536084771156311 | val_loss:2.0515419244766235 | val_acc:0.3333333333333333 | test_loss:2.161907196044922 | test_acc:0.0:  99%|█████████▉| 99/100 [00:02<00:00, 35.52it/s]  "
     ]
    },
    {
     "name": "stdout",
     "output_type": "stream",
     "text": [
      "Epochs : 99\n"
     ]
    },
    {
     "name": "stderr",
     "output_type": "stream",
     "text": [
      " 22%|██▏       | 2/9 [00:00<00:00, 217.32it/s]\n",
      " 12%|█▎        | 1/8 [00:00<00:00, 276.94it/s]\n",
      " 22%|██▏       | 2/9 [00:00<00:00, 513.22it/s]\n",
      "train_loss:1.536084771156311 | val_loss:2.0515419244766235 | val_acc:0.3333333333333333 | test_loss:2.161907196044922 | test_acc:0.0: 100%|██████████| 100/100 [00:02<00:00, 36.47it/s]"
     ]
    },
    {
     "name": "stdout",
     "output_type": "stream",
     "text": [
      "train_loss:1.5284944772720337 | val_loss:2.0515419244766235 | val_acc:0.3333333333333333 | test_loss:2.0491191148757935 | test_acc:0.3333333333333333\n",
      "Done!\n"
     ]
    },
    {
     "name": "stderr",
     "output_type": "stream",
     "text": [
      "\n"
     ]
    }
   ],
   "source": [
    "model = facemeshANN.ANNClassifier(478*3, 8)\n",
    "model, test_loss, correct = facemeshANN.trainmodel(model, train_df, val_df, test_df, epochs=100)"
   ]
  },
  {
   "cell_type": "code",
   "execution_count": null,
   "metadata": {},
   "outputs": [],
   "source": []
  }
 ],
 "metadata": {
  "kernelspec": {
   "display_name": "Python 3.9.6 64-bit",
   "language": "python",
   "name": "python3"
  },
  "language_info": {
   "codemirror_mode": {
    "name": "ipython",
    "version": 3
   },
   "file_extension": ".py",
   "mimetype": "text/x-python",
   "name": "python",
   "nbconvert_exporter": "python",
   "pygments_lexer": "ipython3",
   "version": "3.9.6"
  },
  "orig_nbformat": 4,
  "vscode": {
   "interpreter": {
    "hash": "31f2aee4e71d21fbe5cf8b01ff0e069b9275f58929596ceb00d14d90e3e16cd6"
   }
  }
 },
 "nbformat": 4,
 "nbformat_minor": 2
}
