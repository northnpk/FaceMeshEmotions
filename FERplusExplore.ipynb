{
 "cells": [
  {
   "cell_type": "code",
   "execution_count": 1,
   "metadata": {},
   "outputs": [],
   "source": [
    "import numpy as np\n",
    "import pandas as pd\n",
    "import cv2"
   ]
  },
  {
   "cell_type": "code",
   "execution_count": 2,
   "metadata": {},
   "outputs": [],
   "source": [
    "df = pd.read_csv('challenges-in-representation-learning-facial-expression-recognition-challenge/icml_face_data.csv')"
   ]
  },
  {
   "cell_type": "code",
   "execution_count": 3,
   "metadata": {},
   "outputs": [
    {
     "data": {
      "text/plain": [
       "0        70 80 82 72 58 58 60 63 54 58 60 48 89 115 121...\n",
       "1        151 150 147 155 148 133 111 140 170 174 182 15...\n",
       "2        231 212 156 164 174 138 161 173 182 200 106 38...\n",
       "3        24 32 36 30 32 23 19 20 30 41 21 22 32 34 21 1...\n",
       "4        4 0 0 0 0 0 0 0 0 0 0 0 3 15 23 28 48 50 58 84...\n",
       "                               ...                        \n",
       "35882    50 36 17 22 23 29 33 39 34 37 37 37 39 43 48 5...\n",
       "35883    178 174 172 173 181 188 191 194 196 199 200 20...\n",
       "35884    17 17 16 23 28 22 19 17 25 26 20 24 31 19 27 9...\n",
       "35885    30 28 28 29 31 30 42 68 79 81 77 67 67 71 63 6...\n",
       "35886    19 13 14 12 13 16 21 33 50 57 71 84 97 108 122...\n",
       "Name:  pixels, Length: 35887, dtype: object"
      ]
     },
     "execution_count": 3,
     "metadata": {},
     "output_type": "execute_result"
    }
   ],
   "source": [
    "df[' pixels']"
   ]
  },
  {
   "cell_type": "code",
   "execution_count": 4,
   "metadata": {},
   "outputs": [],
   "source": [
    "def to_img(row):\n",
    "    return np.array(row[' pixels'].split(' ')).reshape(48,48).astype('uint8')"
   ]
  },
  {
   "cell_type": "code",
   "execution_count": 5,
   "metadata": {},
   "outputs": [],
   "source": [
    "df['img'] = df.apply(to_img, axis=1)"
   ]
  },
  {
   "cell_type": "code",
   "execution_count": 6,
   "metadata": {},
   "outputs": [
    {
     "data": {
      "text/plain": [
       "array([[ 70,  80,  82, ...,  52,  43,  41],\n",
       "       [ 65,  61,  58, ...,  56,  52,  44],\n",
       "       [ 50,  43,  54, ...,  49,  56,  47],\n",
       "       ...,\n",
       "       [ 91,  65,  42, ...,  72,  56,  43],\n",
       "       [ 77,  82,  79, ..., 105,  70,  46],\n",
       "       [ 77,  72,  84, ..., 106, 109,  82]], dtype=uint8)"
      ]
     },
     "execution_count": 6,
     "metadata": {},
     "output_type": "execute_result"
    }
   ],
   "source": [
    "df['img'][0]"
   ]
  },
  {
   "cell_type": "code",
   "execution_count": 7,
   "metadata": {},
   "outputs": [
    {
     "data": {
      "image/png": "[encoded data removed]",
      "text/plain": [
       "<Figure size 640x480 with 1 Axes>"
      ]
     },
     "metadata": {},
     "output_type": "display_data"
    }
   ],
   "source": [
    "import matplotlib.pyplot as plt\n",
    "plt.imshow(df['img'][0], cmap='gray')\n",
    "plt.show()"
   ]
  },
  {
   "cell_type": "code",
   "execution_count": 8,
   "metadata": {},
   "outputs": [],
   "source": [
    "import mediapipe as mp\n",
    "\n",
    "mp_drawing = mp.solutions.drawing_utils\n",
    "mp_drawing_styles = mp.solutions.drawing_styles\n",
    "mp_face_mesh = mp.solutions.face_mesh"
   ]
  },
  {
   "cell_type": "code",
   "execution_count": 20,
   "metadata": {},
   "outputs": [],
   "source": [
    "def prepareforANN(lanmarks):\n",
    "    return np.array([[landmark.x, landmark.y, landmark.z] for landmark in lanmarks])"
   ]
  },
  {
   "cell_type": "code",
   "execution_count": 26,
   "metadata": {},
   "outputs": [],
   "source": [
    "def getlandmark(df):\n",
    "    np_landmarks = []\n",
    "    with mp_face_mesh.FaceMesh(static_image_mode=True,\n",
    "                            max_num_faces=1,\n",
    "                            refine_landmarks=True,\n",
    "                            min_detection_confidence=0.5) as face_mesh:\n",
    "        for idx, img in enumerate(df['img']):\n",
    "            # Convert the BGR image to RGB before processing.\n",
    "            result = face_mesh.process(cv2.cvtColor(img, cv2.COLOR_GRAY2RGB))\n",
    "            \n",
    "            # Print and draw face mesh landmarks on the image.\n",
    "            if not result.multi_face_landmarks:\n",
    "                continue\n",
    "            np_landmark = prepareforANN(result.multi_face_landmarks[0].landmark)\n",
    "            np_landmarks.append(np_landmark)\n",
    "            # annotated_image = cv2.cvtColor(img, cv2.COLOR_GRAY2RGB).copy()\n",
    "            # for face_landmarks in results.multi_face_landmarks:\n",
    "            # # print('face_landmarks:', face_landmarks)\n",
    "            #     mp_drawing.draw_landmarks(\n",
    "            #     image=annotated_image,\n",
    "            #     landmark_list=face_landmarks,\n",
    "            #     connections=mp_face_mesh.FACEMESH_TESSELATION,\n",
    "            #     landmark_drawing_spec=None,\n",
    "            #     connection_drawing_spec=mp_drawing_styles.\n",
    "            #     get_default_face_mesh_tesselation_style())\n",
    "            #     mp_drawing.draw_landmarks(\n",
    "            #     image=annotated_image,\n",
    "            #     landmark_list=face_landmarks,\n",
    "            #     connections=mp_face_mesh.FACEMESH_CONTOURS,\n",
    "            #     landmark_drawing_spec=None,\n",
    "            #     connection_drawing_spec=mp_drawing_styles.\n",
    "            #     get_default_face_mesh_contours_style())\n",
    "            #     mp_drawing.draw_landmarks(\n",
    "            #     image=annotated_image,\n",
    "            #     landmark_list=face_landmarks,\n",
    "            #     connections=mp_face_mesh.FACEMESH_IRISES,\n",
    "            #     landmark_drawing_spec=None,\n",
    "            #     connection_drawing_spec=mp_drawing_styles.\n",
    "            #     get_default_face_mesh_iris_connections_style())\n",
    "            #     # plt.imshow(annotated_image)\n",
    "        return np.array(np_landmarks)\n",
    "            "
   ]
  },
  {
   "cell_type": "code",
   "execution_count": 27,
   "metadata": {},
   "outputs": [],
   "source": [
    "results = getlandmark(df)"
   ]
  },
  {
   "cell_type": "code",
   "execution_count": 24,
   "metadata": {},
   "outputs": [
    {
     "data": {
      "text/plain": [
       "(478, 3)"
      ]
     },
     "execution_count": 24,
     "metadata": {},
     "output_type": "execute_result"
    }
   ],
   "source": [
    "results.shape"
   ]
  }
 ],
 "metadata": {
  "kernelspec": {
   "display_name": "Python 3.9.6 64-bit",
   "language": "python",
   "name": "python3"
  },
  "language_info": {
   "codemirror_mode": {
    "name": "ipython",
    "version": 3
   },
   "file_extension": ".py",
   "mimetype": "text/x-python",
   "name": "python",
   "nbconvert_exporter": "python",
   "pygments_lexer": "ipython3",
   "version": "3.9.6"
  },
  "orig_nbformat": 4,
  "vscode": {
   "interpreter": {
    "hash": "31f2aee4e71d21fbe5cf8b01ff0e069b9275f58929596ceb00d14d90e3e16cd6"
   }
  }
 },
 "nbformat": 4,
 "nbformat_minor": 2
}
